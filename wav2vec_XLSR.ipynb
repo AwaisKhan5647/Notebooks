{
 "cells": [
  {
   "cell_type": "code",
   "execution_count": 4,
   "id": "e53adc2f-9a8c-49ef-867c-acb1ddc4e221",
   "metadata": {},
   "outputs": [
    {
     "ename": "ModuleNotFoundError",
     "evalue": "No module named 'fairseq'",
     "output_type": "error",
     "traceback": [
      "\u001b[1;31m---------------------------------------------------------------------------\u001b[0m",
      "\u001b[1;31mModuleNotFoundError\u001b[0m                       Traceback (most recent call last)",
      "Cell \u001b[1;32mIn[4], line 3\u001b[0m\n\u001b[0;32m      1\u001b[0m \u001b[38;5;28;01mimport\u001b[39;00m \u001b[38;5;21;01mtorch\u001b[39;00m\n\u001b[0;32m      2\u001b[0m \u001b[38;5;28;01mimport\u001b[39;00m \u001b[38;5;21;01mnumpy\u001b[39;00m \u001b[38;5;28;01mas\u001b[39;00m \u001b[38;5;21;01mnp\u001b[39;00m\n\u001b[1;32m----> 3\u001b[0m \u001b[38;5;28;01mimport\u001b[39;00m \u001b[38;5;21;01mfairseq\u001b[39;00m\n\u001b[0;32m      4\u001b[0m \u001b[38;5;28;01mimport\u001b[39;00m \u001b[38;5;21;01mos\u001b[39;00m\n\u001b[0;32m      5\u001b[0m \u001b[38;5;28;01mimport\u001b[39;00m \u001b[38;5;21;01mmatplotlib\u001b[39;00m\u001b[38;5;21;01m.\u001b[39;00m\u001b[38;5;21;01mpyplot\u001b[39;00m \u001b[38;5;28;01mas\u001b[39;00m \u001b[38;5;21;01mplt\u001b[39;00m\n",
      "\u001b[1;31mModuleNotFoundError\u001b[0m: No module named 'fairseq'"
     ]
    }
   ],
   "source": [
    "import torch\n",
    "import numpy as np\n",
    "import fairseq\n",
    "import os\n",
    "import matplotlib.pyplot as plt\n",
    "import librosa\n",
    "from tqdm import tqdm\n",
    "from sklearn.manifold import TSNE\n",
    "from sklearn.metrics import accuracy_score, roc_auc_score\n",
    "from sklearn.preprocessing import label_binarize\n",
    "from sklearn.metrics import roc_curve, auc\n",
    "from fairseq.checkpoint_utils import load_model_ensemble_and_task\n",
    "from torch.utils.data import Dataset, DataLoader\n",
    "from sklearn.model_selection import train_test_split\n",
    "import torch.nn as nn\n",
    "import torch.optim as optim"
   ]
  },
  {
   "cell_type": "code",
   "execution_count": null,
   "id": "2a84c826-518f-44bb-9564-92284d5b28cb",
   "metadata": {},
   "outputs": [],
   "source": [
    "input_audio, sample_rate = librosa.load(\"/content/bla.wav\",  sr=16000)\n",
    "\n",
    "model_name = \"facebook/wav2vec2-large-xlsr-53\"\n",
    "feature_extractor = Wav2Vec2FeatureExtractor.from_pretrained(model_name)\n",
    "model = Wav2Vec2Model.from_pretrained(model_name)\n",
    "\n",
    "i= feature_extractor(input_audio, return_tensors=\"pt\", sampling_rate=sample_rate)\n",
    "with torch.no_grad():\n",
    "  o= model(i.input_values)\n",
    "print(o.keys())\n",
    "print(o.last_hidden_state.shape)\n",
    "print(o.extract_features.shape)"
   ]
  },
  {
   "cell_type": "code",
   "execution_count": null,
   "id": "4da51d76-1241-4517-be54-77a79535262f",
   "metadata": {},
   "outputs": [],
   "source": [
    "class SSLModel(nn.Module):\n",
    "    def __init__(self, device):\n",
    "        super(SSLModel, self).__init__()\n",
    "        cp_path = 'xlsr2_300m.pt'\n",
    "        model, _, _ = fairseq.checkpoint_utils.load_model_ensemble_and_task([cp_path])\n",
    "        self.model = model[0]\n",
    "        self.device = device\n",
    "        self.out_dim = 1024\n",
    "    \n",
    "    def extract_feat(self, input_data):\n",
    "        if next(self.model.parameters()).device != input_data.device or next(self.model.parameters()).dtype != input_data.dtype:\n",
    "            self.model.to(input_data.device, dtype=input_data.dtype)\n",
    "            self.model.train()\n",
    "\n",
    "        if input_data.ndim == 3:\n",
    "            input_tmp = input_data[:, :, 0]\n",
    "        else:\n",
    "            input_tmp = input_data\n",
    "        \n",
    "        emb = self.model(input_tmp, mask=False, features_only=True)['x']\n",
    "        return emb"
   ]
  },
  {
   "cell_type": "code",
   "execution_count": null,
   "id": "1bdf6552-0dfe-43dd-a0ac-ed2e1ee0999a",
   "metadata": {},
   "outputs": [],
   "source": [
    "def extract_features(audio_file_path, device, model):\n",
    "    # Load and preprocess the audio file\n",
    "    audio, sr = librosa.load(audio_file_path, sr=16000)\n",
    "    duration = librosa.get_duration(y=audio, sr=sr)\n",
    "    min_duration = 4.0  # Adjust as needed\n",
    "    if duration < min_duration:\n",
    "        pad_samples = int((min_duration - duration) * sr)\n",
    "        audio = np.pad(audio, (0, pad_samples), mode='constant')\n",
    "    elif duration > min_duration:\n",
    "        audio = audio[:int(min_duration * sr)]\n",
    "    \n",
    "    audio_reshaped = np.reshape(audio, (1, -1))\n",
    "    \n",
    "    input_values = torch.tensor(audio_reshaped, dtype=torch.float32).unsqueeze(0).to(device)\n",
    "    \n",
    "    with torch.no_grad():\n",
    "        # Forward pass through the model\n",
    "        features = model.extract_feat(input_values)\n",
    "    \n",
    "    return features.cpu().numpy().squeeze()\n",
    "\n",
    "\n",
    "def read_labels(labels_file):\n",
    "    labels_dict = {}\n",
    "    with open(labels_file, 'r') as file:\n",
    "        for line in file:\n",
    "            parts = line.strip().split()\n",
    "            audio_name = parts[1]\n",
    "            label = parts[4]\n",
    "            label = 1 if label == 'spoof' else 0\n",
    "            labels_dict[audio_name] = label\n",
    "    return labels_dict"
   ]
  },
  {
   "cell_type": "markdown",
   "id": "0fff3359-27cf-4ecb-b584-125666355783",
   "metadata": {},
   "source": [
    "Extract features for training, validation, and testing sets:"
   ]
  },
  {
   "cell_type": "code",
   "execution_count": null,
   "id": "8d888c4e-ab86-4880-9313-d5e75e1582c8",
   "metadata": {},
   "outputs": [],
   "source": [
    "if __name__ == \"__main__\":\n",
    "    device = torch.device('cuda' if torch.cuda.is_available() else 'cpu')\n",
    "    model = SSLModel(device)\n",
    "    \n",
    "    for phase in ['Train', 'dev', 'eval']:\n",
    "        audio_path = f\"F:\\\\Awais_data\\\\Datasets\\\\PartialSpoof\\\\{phase.lower()}\\\\con_wav\"\n",
    "        labels_file = f\"F:\\\\Awais_data\\\\Datasets\\\\PartialSpoof\\\\protocols\\\\PartialSpoof_LA_cm_protocols\\\\PartialSpoof.LA.cm.{phase.lower()}.trl.txt\"\n",
    "        output_features_file = f\"F:\\\\Awais_data\\\\Datasets\\\\PartialSpoof\\\\Features\\\\training\\\\SSL\\\\XLSR_{phase.lower()}_features.npy\"\n",
    "        output_labels_file = f\"F:\\\\Awais_data\\\\Datasets\\\\PartialSpoof\\\\Features\\\\training\\\\SSL\\\\XLSR_{phase.lower()}_labels.npy\"\n",
    "        \n",
    "        labels_dict = read_labels(labels_file)\n",
    "        \n",
    "        features_list = []\n",
    "        labels_list = []\n",
    "        \n",
    "        for audio_name, label in tqdm(labels_dict.items(), desc=f\"Extracting features for {phase}\"):\n",
    "            audio_file = os.path.join(audio_path, audio_name + \".wav\")\n",
    "            if not os.path.exists(audio_file):\n",
    "                print(f\"File '{audio_file}' not found. Skipping...\")\n",
    "                continue\n",
    "            features = extract_features(audio_file, device, model)\n",
    "            features_list.append(features)\n",
    "            labels_list.append(label)\n",
    "        \n",
    "        features_array = np.array(features_list)\n",
    "        labels_array = np.array(labels_list)\n",
    "        \n",
    "        np.save(output_features_file, features_array)\n",
    "        np.save(output_labels_file, labels_array)"
   ]
  },
  {
   "cell_type": "markdown",
   "id": "c8468cf2-17e2-4d02-ba54-73b29ebd0c8e",
   "metadata": {},
   "source": [
    "Train Light CNN and MLP Models\n",
    "  \n",
    "  1#Prepare the dataset and dataloaders:"
   ]
  },
  {
   "cell_type": "code",
   "execution_count": null,
   "id": "a2e909fe-edf6-4cb1-aeea-408e5018dfff",
   "metadata": {},
   "outputs": [],
   "source": [
    "class AudioDataset(Dataset):\n",
    "    def __init__(self, features, labels):\n",
    "        self.features = features\n",
    "        self.labels = labels\n",
    "\n",
    "    def __len__(self):\n",
    "        return len(self.labels)\n",
    "\n",
    "    def __getitem__(self, idx):\n",
    "        return torch.tensor(self.features[idx], dtype=torch.float32), torch.tensor(self.labels[idx], dtype=torch.long)\n",
    "\n",
    "# Load features and labels\n",
    "X_train = np.load('F:\\\\Awais_data\\\\Datasets\\\\PartialSpoof\\\\Features\\\\training\\\\SSL\\\\Train_features.npy')\n",
    "y_train = np.load('F:\\\\Awais_data\\\\Datasets\\\\PartialSpoof\\\\Features\\\\training\\\\SSL\\\\Train_labels.npy')\n",
    "X_val = np.load('F:\\\\Awais_data\\\\Datasets\\\\PartialSpoof\\\\Features\\\\training\\\\SSL\\\\dev_features.npy')\n",
    "y_val = np.load('F:\\\\Awais_data\\\\Datasets\\\\PartialSpoof\\\\Features\\\\training\\\\SSL\\\\dev_labels.npy')\n",
    "X_test = np.load('F:\\\\Awais_data\\\\Datasets\\\\PartialSpoof\\\\Features\\\\training\\\\SSL\\\\eval_features.npy')\n",
    "y_test = np.load('F:\\\\Awais_data\\\\Datasets\\\\PartialSpoof\\\\Features\\\\training\\\\SSL\\\\eval_labels.npy')\n",
    "\n",
    "train_dataset = AudioDataset(X_train, y_train)\n",
    "val_dataset = AudioDataset(X_val, y_val)\n",
    "test_dataset = AudioDataset(X_test, y_test)\n",
    "\n",
    "train_loader = DataLoader(train_dataset, batch_size=64, shuffle=True)\n",
    "val_loader = DataLoader(val_dataset, batch_size=64, shuffle=False)\n",
    "test_loader = DataLoader(test_dataset, batch_size=64, shuffle=False)"
   ]
  },
  {
   "cell_type": "markdown",
   "id": "5744676e-038b-40bd-9c5b-2ac40ff98b50",
   "metadata": {},
   "source": [
    "Define and train the Light CNN and MLP models:"
   ]
  },
  {
   "cell_type": "code",
   "execution_count": null,
   "id": "e04e8518-8e90-4da7-93a3-d6bfd0a54734",
   "metadata": {},
   "outputs": [],
   "source": [
    "class MLP(nn.Module):\n",
    "    def __init__(self, input_dim, hidden_dim, output_dim):\n",
    "        super(MLP, self).__init__()\n",
    "        self.fc1 = nn.Linear(input_dim, hidden_dim)\n",
    "        self.relu = nn.ReLU()\n",
    "        self.fc2 = nn.Linear(hidden_dim, output_dim)\n",
    "        self.softmax = nn.Softmax(dim=1)\n",
    "\n",
    "    def forward(self, x):\n",
    "        x = self.fc1(x)\n",
    "        x = self.relu(x)\n",
    "        x = self.fc2(x)\n",
    "        return self.softmax(x)\n",
    "\n",
    "# Define and train MLP\n",
    "mlp = MLP(input_dim=1024, hidden_dim=512, output_dim=2).to(device)\n",
    "criterion = nn.CrossEntropyLoss()\n",
    "optimizer = optim.Adam(mlp.parameters(), lr=0.001)\n",
    "\n",
    "def train_model(model, train_loader, val_loader, num_epochs=10):\n",
    "    for epoch in range(num_epochs):\n",
    "        model.train()\n",
    "        for features, labels in train_loader:\n",
    "            features, labels = features.to(device), labels.to(device)\n",
    "            outputs = model(features)\n",
    "            loss = criterion(outputs, labels)\n",
    "            optimizer.zero_grad()\n",
    "            loss.backward()\n",
    "            optimizer.step()\n",
    "        \n",
    "        # Validation phase\n",
    "        model.eval()\n",
    "        val_loss = 0\n",
    "        correct = 0\n",
    "        with torch.no_grad():\n",
    "            for features, labels in val_loader:\n",
    "                features, labels = features.to(device), labels.to(device)\n",
    "                outputs = model(features)\n",
    "                val_loss += criterion(outputs, labels).item()\n",
    "                _, predicted = torch.max(outputs, 1)\n",
    "                correct += (predicted == labels).sum().item()\n",
    "        \n",
    "        print(f'Epoch {epoch+1}/{num_epochs}, Validation Loss: {val_loss/len(val_loader)}, Accuracy: {correct/len(val_dataset)}')\n",
    "\n",
    "train_model(mlp, train_loader, val_loader)"
   ]
  },
  {
   "cell_type": "code",
   "execution_count": null,
   "id": "38bbc269-13d5-43fe-986b-d76ed54f153b",
   "metadata": {},
   "outputs": [],
   "source": []
  },
  {
   "cell_type": "code",
   "execution_count": null,
   "id": "785ebd29-d0c0-4d8e-90ef-debc42f2da2a",
   "metadata": {},
   "outputs": [],
   "source": []
  },
  {
   "cell_type": "code",
   "execution_count": null,
   "id": "fa63d31c-d501-41fa-8d5b-8d8150aa0b13",
   "metadata": {},
   "outputs": [],
   "source": []
  },
  {
   "cell_type": "code",
   "execution_count": null,
   "id": "82f747b0-f02f-4512-bfee-531e99b84bab",
   "metadata": {},
   "outputs": [],
   "source": []
  },
  {
   "cell_type": "code",
   "execution_count": null,
   "id": "15d4e464-0f82-4a08-80d4-40d4c8f5ccce",
   "metadata": {},
   "outputs": [],
   "source": []
  },
  {
   "cell_type": "code",
   "execution_count": null,
   "id": "cfea8183-7b97-4e73-a9df-92dee710d71e",
   "metadata": {},
   "outputs": [],
   "source": []
  },
  {
   "cell_type": "code",
   "execution_count": null,
   "id": "d9a1ddac-ea8a-48a0-b558-eb6b20e7e154",
   "metadata": {},
   "outputs": [],
   "source": []
  },
  {
   "cell_type": "code",
   "execution_count": null,
   "id": "ddf8db93-1faf-45d6-9f1b-0f834055e45e",
   "metadata": {},
   "outputs": [],
   "source": []
  },
  {
   "cell_type": "code",
   "execution_count": null,
   "id": "c45f8376-6949-4ead-a6aa-e23baa96ce0a",
   "metadata": {},
   "outputs": [],
   "source": []
  },
  {
   "cell_type": "code",
   "execution_count": null,
   "id": "1bcf7629-c893-4a08-89c3-0d43289bf5cf",
   "metadata": {},
   "outputs": [],
   "source": []
  },
  {
   "cell_type": "code",
   "execution_count": null,
   "id": "f5985e02-3687-4aad-87d8-e050c95eeb3c",
   "metadata": {},
   "outputs": [],
   "source": []
  }
 ],
 "metadata": {
  "kernelspec": {
   "display_name": "Python (pytorch_env)",
   "language": "python",
   "name": "pytorch_env"
  },
  "language_info": {
   "codemirror_mode": {
    "name": "ipython",
    "version": 3
   },
   "file_extension": ".py",
   "mimetype": "text/x-python",
   "name": "python",
   "nbconvert_exporter": "python",
   "pygments_lexer": "ipython3",
   "version": "3.9.19"
  }
 },
 "nbformat": 4,
 "nbformat_minor": 5
}
