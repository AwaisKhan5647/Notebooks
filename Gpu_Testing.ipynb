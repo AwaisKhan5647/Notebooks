{
 "cells": [
  {
   "cell_type": "code",
   "execution_count": 1,
   "id": "6c2b2015-acff-4eec-a5da-05de84156430",
   "metadata": {},
   "outputs": [
    {
     "name": "stdout",
     "output_type": "stream",
     "text": [
      "Num GPUs Available:  0\n"
     ]
    }
   ],
   "source": [
    "import tensorflow as tf\n",
    "print(\"Num GPUs Available: \", len(tf.config.experimental.list_physical_devices('GPU')))\n"
   ]
  },
  {
   "cell_type": "code",
   "execution_count": 2,
   "id": "2dd15f88-288e-452f-840f-00bb97e175aa",
   "metadata": {},
   "outputs": [
    {
     "name": "stdout",
     "output_type": "stream",
     "text": [
      "GPU 0 Total memory: 23.99 GB\n"
     ]
    }
   ],
   "source": [
    "import subprocess\n",
    "\n",
    "def get_gpu_memory():\n",
    "    try:\n",
    "        # Run nvidia-smi to get GPU memory info\n",
    "        result = subprocess.check_output(\n",
    "            ['nvidia-smi', '--query-gpu=memory.total', '--format=csv,nounits,noheader'],\n",
    "            encoding='utf-8'\n",
    "        )\n",
    "        # Split the result into lines and convert to integer\n",
    "        gpu_memory = result.strip().split('\\n')\n",
    "        gpu_memory = [int(mem) for mem in gpu_memory]\n",
    "        return gpu_memory\n",
    "    except Exception as e:\n",
    "        print(f\"Error: {e}\")\n",
    "        return None\n",
    "\n",
    "gpu_memory = get_gpu_memory()\n",
    "if gpu_memory:\n",
    "    for i, mem in enumerate(gpu_memory):\n",
    "        print(f\"GPU {i} Total memory: {mem / 1024:.2f} GB\")\n",
    "else:\n",
    "    print(\"No GPU found or nvidia-smi not available.\")\n"
   ]
  },
  {
   "cell_type": "code",
   "execution_count": 3,
   "id": "46892790-7abb-4f07-ba90-60e6735617ed",
   "metadata": {},
   "outputs": [
    {
     "name": "stdout",
     "output_type": "stream",
     "text": [
      "No GPU found.\n"
     ]
    }
   ],
   "source": [
    "import tensorflow as tf\n",
    "\n",
    "# List all physical devices\n",
    "gpus = tf.config.experimental.list_physical_devices('GPU')\n",
    "if gpus:\n",
    "    print(f\"Number of GPUs available: {len(gpus)}\")\n",
    "    for gpu in gpus:\n",
    "        print(f\"GPU Name: {gpu}\")\n",
    "        # Get detailed information about the GPU\n",
    "        details = tf.config.experimental.get_device_details(gpu)\n",
    "        for key, value in details.items():\n",
    "            print(f\"{key}: {value}\")\n",
    "else:\n",
    "    print(\"No GPU found.\")\n"
   ]
  },
  {
   "cell_type": "code",
   "execution_count": null,
   "id": "0d4cb36b-0f0c-42e8-9867-f855ec4d778d",
   "metadata": {},
   "outputs": [],
   "source": []
  }
 ],
 "metadata": {
  "kernelspec": {
   "display_name": "python 3.9 (tensorflow)",
   "language": "python",
   "name": "tensorflow"
  },
  "language_info": {
   "codemirror_mode": {
    "name": "ipython",
    "version": 3
   },
   "file_extension": ".py",
   "mimetype": "text/x-python",
   "name": "python",
   "nbconvert_exporter": "python",
   "pygments_lexer": "ipython3",
   "version": "3.9.19"
  }
 },
 "nbformat": 4,
 "nbformat_minor": 5
}
