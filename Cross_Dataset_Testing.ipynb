{
 "cells": [
  {
   "cell_type": "code",
   "execution_count": 1,
   "id": "9f2b6a48",
   "metadata": {},
   "outputs": [],
   "source": [
    "import os\n",
    "import torch\n",
    "import soundfile as sf\n",
    "import numpy as np\n",
    "import torch.nn as nn\n",
    "import torch.optim as optim\n",
    "import matplotlib.pyplot as plt\n",
    "import matplotlib.cm as cm\n",
    "import torch.optim as optim\n",
    "import librosa\n",
    "from tqdm import tqdm\n",
    "from transformers import Wav2Vec2FeatureExtractor, Wav2Vec2Model\n",
    "from sklearn.preprocessing import StandardScaler\n",
    "from scipy.optimize import brentq\n",
    "from scipy.interpolate import interp1d\n",
    "from sklearn.svm import SVC\n",
    "from sklearn.neural_network import MLPClassifier\n",
    "from torch.utils.data import DataLoader, TensorDataset\n",
    "from sklearn.manifold import TSNE\n",
    "from torchsummary import summary\n",
    "from sklearn.metrics import roc_auc_score, accuracy_score, precision_score, recall_score, f1_score, roc_curve, confusion_matrix"
   ]
  },
  {
   "cell_type": "code",
   "execution_count": 2,
   "id": "d2b9a3c0",
   "metadata": {},
   "outputs": [
    {
     "name": "stdout",
     "output_type": "stream",
     "text": [
      "PyTorch version: 2.4.0\n",
      "CUDA available: True\n",
      "GPU device name: NVIDIA GeForce RTX 4090\n",
      "Number of available GPUs: 1\n",
      "Available GPUs:  1\n",
      "Using device: cuda\n"
     ]
    }
   ],
   "source": [
    "# Check if PyTorch is installed properly\n",
    "print(\"PyTorch version:\", torch.__version__)\n",
    "# Check if CUDA (GPU support) is available\n",
    "cuda_available = torch.cuda.is_available()\n",
    "print(\"CUDA available:\", cuda_available)\n",
    "if cuda_available:\n",
    "    # Check the GPU device name\n",
    "    gpu_name = torch.cuda.get_device_name(0)\n",
    "    print(\"GPU device name:\", gpu_name)\n",
    "    # Check the number of available GPUs\n",
    "    num_gpus = torch.cuda.device_count()\n",
    "    print(\"Number of available GPUs:\", num_gpus)\n",
    "else:\n",
    "    print(\"CUDA is not available. PyTorch is using the CPU.\")\n",
    "    \n",
    "    \n",
    "print(\"Available GPUs: \", torch.cuda.device_count())\n",
    "os.environ[\"CUDA_VISIBLE_DEVICES\"] = \"0,1,2\"\n",
    "\n",
    "device = torch.device('cuda' if torch.cuda.is_available() else 'cpu')\n",
    "print(f\"Using device: {device}\")"
   ]
  },
  {
   "cell_type": "code",
   "execution_count": 5,
   "id": "ca9a49ff",
   "metadata": {},
   "outputs": [],
   "source": [
    "# W2V\n",
    "# XLSR\n",
    "# Set paths to feature files\n",
    "data_dir = \"F:\\\\Awais_data\\\\Datasets\\\\asvspoof2019\\\\LA\\\\Features\\\\SSL\"\n",
    "data_dir1 = \"F:\\\\Awais_data\\\\Datasets\\\\ASV21\\\\Features\\\\SSL\\\\W2V\\\\DF\\\\Hidden\"\n",
    "X_train_hidden_file = os.path.join(data_dir, \"W2V_Train_hidden_states_features.npy\")\n",
    "X_val_hidden_file = os.path.join(data_dir, \"W2V_dev_hidden_states_features.npy\")\n",
    "X_test_hidden_file = os.path.join(data_dir1, \"W2V_DF_hidden_states_features01.npy\")\n",
    "\n",
    "# X_train_cnn_file = os.path.join(data_dir, \"W2V_Train_features_last_cnn_layer.npy\")\n",
    "# X_val_cnn_file = os.path.join(data_dir, \"W2V_dev_features_last_cnn_layer.npy\")\n",
    "# X_test_cnn_file = os.path.join(data_dir1, \"W2V_DF_features_last_cnn_layer12.npy\")\n",
    "\n",
    "y_train_file = os.path.join(data_dir, \"W2V_Train_labels.npy\")\n",
    "y_val_file = os.path.join(data_dir, \"W2V_dev_labels.npy\")\n",
    "y_test_file = os.path.join(data_dir1, \"W2V_DF_labels01.npy\")"
   ]
  },
  {
   "cell_type": "code",
   "execution_count": 6,
   "id": "cde25968",
   "metadata": {},
   "outputs": [
    {
     "name": "stdout",
     "output_type": "stream",
     "text": [
      "Detected 1 GPU(s): [device(type='cuda', index=0)]\n",
      "Loading features and labels...\n"
     ]
    },
    {
     "name": "stderr",
     "output_type": "stream",
     "text": [
      "100%|████████████████████████████████████████████████████████████████████████████████████| 6/6 [01:18<00:00, 13.10s/it]\n"
     ]
    }
   ],
   "source": [
    "# Load features and labels\n",
    "def load_features(file_path):\n",
    "    return np.load(file_path)\n",
    "\n",
    "# Function to split the tensor across multiple GPUs\n",
    "def split_tensor_across_gpus(tensor, devices):\n",
    "    split_size = tensor.size(0) // len(devices)\n",
    "    tensor_splits = [tensor[i * split_size:(i + 1) * split_size].to(devices[i]) for i in range(len(devices))]\n",
    "    \n",
    "    # Handle any remainder by adding the last remaining elements to the last split\n",
    "    if tensor.size(0) % len(devices) != 0:\n",
    "        tensor_splits[-1] = torch.cat([tensor_splits[-1], tensor[len(devices) * split_size:].to(devices[-1])])\n",
    "    \n",
    "    return tensor_splits\n",
    "\n",
    "# Automatically detect available GPUs\n",
    "num_gpus = torch.cuda.device_count()\n",
    "devices = [torch.device(f'cuda:{i}') for i in range(num_gpus)]\n",
    "\n",
    "print(f\"Detected {num_gpus} GPU(s): {devices}\")\n",
    "\n",
    "print(\"Loading features and labels...\")\n",
    "with tqdm(total=6) as pbar:\n",
    "    # # Load and split tensors across all available GPUs\n",
    "    X_train_hidden = torch.tensor(load_features(X_train_hidden_file), dtype=torch.float32)\n",
    "    X_train_splits = split_tensor_across_gpus(X_train_hidden, devices)\n",
    "    pbar.update(1)\n",
    "\n",
    "    X_val_hidden = torch.tensor(load_features(X_val_hidden_file), dtype=torch.float32)\n",
    "    X_val_splits = split_tensor_across_gpus(X_val_hidden, devices)\n",
    "    pbar.update(1)\n",
    "\n",
    "    X_test_hidden = torch.tensor(load_features(X_test_hidden_file), dtype=torch.float32)\n",
    "    X_test_splits = split_tensor_across_gpus(X_test_hidden, devices)\n",
    "    pbar.update(1)\n",
    "\n",
    "    y_train = torch.tensor(load_features(y_train_file), dtype=torch.float32)\n",
    "    y_train_splits = split_tensor_across_gpus(y_train, devices)\n",
    "    pbar.update(1)\n",
    "\n",
    "    y_val = torch.tensor(load_features(y_val_file), dtype=torch.float32)\n",
    "    y_val_splits = split_tensor_across_gpus(y_val, devices)\n",
    "    pbar.update(1)\n",
    "\n",
    "    y_test = torch.tensor(load_features(y_test_file), dtype=torch.float32)\n",
    "    y_test_splits = split_tensor_across_gpus(y_test, devices)\n",
    "    pbar.update(1)"
   ]
  },
  {
   "cell_type": "code",
   "execution_count": 7,
   "id": "2a1d78e6-0570-4968-af62-9358b9c8d413",
   "metadata": {},
   "outputs": [],
   "source": [
    "devices = [torch.device('cuda:0'), torch.device('cuda:1'), torch.device('cuda:2')]"
   ]
  },
  {
   "cell_type": "code",
   "execution_count": 8,
   "id": "98076d3e",
   "metadata": {},
   "outputs": [
    {
     "name": "stdout",
     "output_type": "stream",
     "text": [
      "Training Hidden Features Shape: torch.Size([25380, 49, 1024])\n",
      "Validation Hidden Features Shape: torch.Size([24844, 49, 1024])\n",
      "Test Hidden Features Shape: torch.Size([40000, 199, 1024])\n",
      "Training Labels Shape: torch.Size([25380])\n",
      "Validation Labels Shape: torch.Size([24844])\n",
      "Test Labels Shape: torch.Size([40000])\n"
     ]
    }
   ],
   "source": [
    "# # Print shapes and sizes\n",
    "print(\"Training Hidden Features Shape:\", X_train_hidden.shape)\n",
    "print(\"Validation Hidden Features Shape:\", X_val_hidden.shape)\n",
    "print(\"Test Hidden Features Shape:\", X_test_hidden.shape)\n",
    "# print(\"Training CNN Features Shape:\", X_train_cnn.shape)\n",
    "# print(\"Validation CNN Features Shape:\", X_val_cnn.shape)\n",
    "# print(\"Test CNN Features Shape:\", X_test_cnn.shape)\n",
    "print(\"Training Labels Shape:\", y_train.shape)\n",
    "print(\"Validation Labels Shape:\", y_val.shape)\n",
    "print(\"Test Labels Shape:\", y_test.shape)"
   ]
  },
  {
   "cell_type": "code",
   "execution_count": 9,
   "id": "242dd112",
   "metadata": {},
   "outputs": [
    {
     "name": "stdout",
     "output_type": "stream",
     "text": [
      "Reshaping features...\n"
     ]
    },
    {
     "name": "stderr",
     "output_type": "stream",
     "text": [
      "100%|███████████████████████████████████████████████████████████████████████████████████| 3/3 [00:00<00:00, 999.75it/s]\n"
     ]
    }
   ],
   "source": [
    "# Reshape features with progress bar\n",
    "print(\"Reshaping features...\")\n",
    "with tqdm(total=3) as pbar:\n",
    "    X_train_hidden = X_train_hidden.view(X_train_hidden.shape[0], -1)\n",
    "    pbar.update(1)\n",
    "    X_val_hidden = X_val_hidden.view(X_val_hidden.shape[0], -1)\n",
    "    pbar.update(1)\n",
    "    X_test_hidden = X_test_hidden.view(X_test_hidden.shape[0], -1)\n",
    "    pbar.update(1)\n",
    "    # X_train_cnn = X_train_cnn.view(X_train_cnn.shape[0], -1)\n",
    "    # pbar.update(1)\n",
    "    # X_val_cnn = X_val_cnn.view(X_val_cnn.shape[0], -1)\n",
    "    # pbar.update(1)\n",
    "    # X_test_cnn = X_test_cnn.view(X_test_cnn.shape[0], -1)\n",
    "    # pbar.update(1)"
   ]
  },
  {
   "cell_type": "code",
   "execution_count": 10,
   "id": "794836a0",
   "metadata": {},
   "outputs": [],
   "source": [
    "\n",
    "X_train = X_train_hidden\n",
    "X_val = X_val_hidden\n",
    "X_test = X_test_hidden\n",
    "\n",
    "# X_train = X_train_cnn\n",
    "# X_val = X_val_cnn\n",
    "# X_test = X_test_cnn"
   ]
  },
  {
   "cell_type": "code",
   "execution_count": 11,
   "id": "91e68581",
   "metadata": {},
   "outputs": [
    {
     "name": "stdout",
     "output_type": "stream",
     "text": [
      "Before normalization\n",
      "tensor([-0.1370, -0.0350, -0.0693,  ..., -1.1063,  0.6121,  0.1675])\n",
      "tensor(0.)\n",
      "tensor([ 0.2082,  0.2715, -0.0374,  ..., -0.2409,  0.2648,  0.1941])\n",
      "tensor(0.)\n",
      "tensor([-0.6501,  0.5213,  0.1614,  ..., -0.6026,  0.7914,  0.4863])\n",
      "tensor(1.)\n",
      "Shapes\n",
      "torch.Size([25380, 50176])\n",
      "torch.Size([25380])\n",
      "torch.Size([24844, 50176])\n",
      "torch.Size([24844])\n",
      "torch.Size([40000, 203776])\n",
      "torch.Size([40000])\n"
     ]
    }
   ],
   "source": [
    "print(\"Before normalization\")\n",
    "print(X_train[0])\n",
    "print(y_train[0])\n",
    "print(X_val[0])\n",
    "print(y_val[0])\n",
    "print(X_test[0])\n",
    "print(y_test[0])\n",
    "print(\"Shapes\")\n",
    "print(X_train.shape)\n",
    "print(y_train.shape)\n",
    "print(X_val.shape)\n",
    "print(y_val.shape)\n",
    "print(X_test.shape)\n",
    "print(y_test.shape)"
   ]
  },
  {
   "cell_type": "code",
   "execution_count": 12,
   "id": "69ed2ad1-f6c3-42c0-9429-57a62b475b59",
   "metadata": {},
   "outputs": [],
   "source": [
    "# Clear GPU cache\n",
    "torch.cuda.empty_cache()"
   ]
  },
  {
   "cell_type": "code",
   "execution_count": 13,
   "id": "b4124b89-75fd-4641-94d4-ca4d007800d5",
   "metadata": {},
   "outputs": [
    {
     "name": "stdout",
     "output_type": "stream",
     "text": [
      "Standardizing features...\n",
      "Processing complete.\n"
     ]
    }
   ],
   "source": [
    "import torch\n",
    "\n",
    "def compute_mean_std(X, batch_size, device):\n",
    "    num_features = X.size(1)\n",
    "    mean = torch.zeros(num_features, device=device)\n",
    "    std = torch.zeros(num_features, device=device)\n",
    "    \n",
    "    num_batches = (X.size(0) + batch_size - 1) // batch_size\n",
    "    for i in range(num_batches):\n",
    "        batch = X[i*batch_size:(i+1)*batch_size].to(device)\n",
    "        mean += batch.mean(dim=0)\n",
    "        std += batch.std(dim=0)\n",
    "    \n",
    "    mean /= num_batches\n",
    "    std /= num_batches\n",
    "    \n",
    "    return mean, std\n",
    "\n",
    "def standardize_in_chunks(X, mean, std, batch_size, device):\n",
    "    num_batches = (X.size(0) + batch_size - 1) // batch_size\n",
    "    standardized_chunks = []\n",
    "    for i in range(num_batches):\n",
    "        batch = X[i*batch_size:(i+1)*batch_size].to(device)\n",
    "        standardized_batch = (batch - mean) / std\n",
    "        standardized_chunks.append(standardized_batch.cpu())\n",
    "    \n",
    "    return torch.cat(standardized_chunks, dim=0)\n",
    "\n",
    "print(\"Standardizing features...\")\n",
    "batch_size = 500  # Adjust batch size based on available memory\n",
    "\n",
    "# Load data to CPU\n",
    "X_train_cpu = X_train.cpu()\n",
    "X_val_cpu = X_val.cpu()\n",
    "X_test_cpu = X_test.cpu()\n",
    "\n",
    "# Compute mean and std\n",
    "mean, std = compute_mean_std(X_train_cpu, batch_size, device)\n",
    "mean, std = compute_mean_std(X_val_cpu, batch_size, device)\n",
    "mean1, std1 = compute_mean_std(X_test_cpu, batch_size, device)\n",
    "\n",
    "# Standardize in chunks\n",
    "X_train= standardize_in_chunks(X_train_cpu, mean, std, batch_size, device)\n",
    "X_val= standardize_in_chunks(X_val_cpu, mean, std, batch_size, device)\n",
    "X_test= standardize_in_chunks(X_test_cpu, mean1, std1, batch_size, device)\n",
    "\n",
    "print(\"Processing complete.\")\n"
   ]
  },
  {
   "cell_type": "code",
   "execution_count": 14,
   "id": "7b8ef80b",
   "metadata": {},
   "outputs": [
    {
     "name": "stdout",
     "output_type": "stream",
     "text": [
      "After normalization\n",
      "tensor([ 0.6847, -1.1545, -0.1941,  ..., -1.9798,  0.4763,  0.3751])\n",
      "tensor(0.)\n",
      "tensor([ 2.1590,  1.0083,  0.0574,  ..., -0.1239, -0.5435,  0.4577])\n",
      "tensor(0.)\n",
      "tensor([-0.0172,  1.6833,  0.6449,  ...,  0.0727, -0.2328,  1.0112])\n",
      "tensor(1.)\n",
      "Shapes\n",
      "torch.Size([25380, 50176])\n",
      "torch.Size([25380])\n",
      "torch.Size([24844, 50176])\n",
      "torch.Size([24844])\n",
      "torch.Size([40000, 203776])\n",
      "torch.Size([40000])\n"
     ]
    }
   ],
   "source": [
    "print(\"After normalization\")\n",
    "print(X_train[0])\n",
    "print(y_train[0])\n",
    "print(X_val[0])\n",
    "print(y_val[0])\n",
    "print(X_test[0])\n",
    "print(y_test[0])\n",
    "print(\"Shapes\")\n",
    "print(X_train.shape)\n",
    "print(y_train.shape)\n",
    "print(X_val.shape)\n",
    "print(y_val.shape)\n",
    "print(X_test.shape)\n",
    "print(y_test.shape)"
   ]
  },
  {
   "cell_type": "markdown",
   "id": "169fe061",
   "metadata": {},
   "source": [
    "Model training and validation"
   ]
  },
  {
   "cell_type": "code",
   "execution_count": 15,
   "id": "e2dcdee1",
   "metadata": {},
   "outputs": [],
   "source": [
    "class MLPClassifier(nn.Module):\n",
    "    def __init__(self, input_dim, hidden_dim, output_dim):\n",
    "        super(MLPClassifier, self).__init__()\n",
    "        self.fc1 = nn.Linear(input_dim, hidden_dim)\n",
    "        self.fc2 = nn.Linear(hidden_dim, hidden_dim)\n",
    "        self.fc3 = nn.Linear(hidden_dim, output_dim)\n",
    "        self.relu = nn.ReLU()\n",
    "        self.dropout = nn.Dropout(0.5)\n",
    "\n",
    "    def forward(self, x):\n",
    "        x = self.relu(self.fc1(x))\n",
    "        x = self.dropout(x)\n",
    "        x = self.relu(self.fc2(x))\n",
    "        x = self.dropout(x)\n",
    "        x = self.fc3(x)\n",
    "        return x"
   ]
  },
  {
   "cell_type": "code",
   "execution_count": 16,
   "id": "d75f563c",
   "metadata": {},
   "outputs": [],
   "source": [
    "# Hyperparameters as a configuration dictionary\n",
    "config = {\n",
    "    'hidden_dim': 512,\n",
    "    'output_dim': 1,  # Assuming binary classification\n",
    "    'num_epochs': 100,\n",
    "    'batch_size': 128,\n",
    "    'learning_rate': 0.0001,\n",
    "    'model_save_path': 'W2V_best_mlp_crossmodel_asv21_DF_cnn01'  # Base path for saving the model\n",
    "}"
   ]
  },
  {
   "cell_type": "code",
   "execution_count": 17,
   "id": "ebf842ee",
   "metadata": {},
   "outputs": [],
   "source": [
    "# Automatically determine input_dim from training data\n",
    "train_input_dim = X_train.shape[1]\n",
    "test_input_dim = X_test.shape[1]"
   ]
  },
  {
   "cell_type": "code",
   "execution_count": 18,
   "id": "99ed6a50",
   "metadata": {},
   "outputs": [],
   "source": [
    "def create_dataloader(X, y, batch_size):\n",
    "    dataset = TensorDataset(X, y)\n",
    "    dataloader = DataLoader(dataset, batch_size=batch_size, shuffle=True)\n",
    "    return dataloader\n",
    "\n",
    "train_val_loader = create_dataloader(torch.cat((X_train, X_val)), torch.cat((y_train, y_val)), config['batch_size'])\n",
    "test_loader = create_dataloader(X_test, y_test, config['batch_size'])"
   ]
  },
  {
   "cell_type": "code",
   "execution_count": 19,
   "id": "6bcc1071",
   "metadata": {},
   "outputs": [],
   "source": [
    "# Initialize model for training and validation\n",
    "train_model = MLPClassifier(train_input_dim, config['hidden_dim'], config['output_dim']).cuda()\n",
    "# Initialize model for testing\n",
    "test_model = MLPClassifier(test_input_dim, config['hidden_dim'], config['output_dim']).cuda()\n",
    "\n",
    "criterion = nn.BCEWithLogitsLoss() \n",
    "optimizer = optim.Adam(train_model.parameters(), lr=config['learning_rate'])"
   ]
  },
  {
   "cell_type": "code",
   "execution_count": 20,
   "id": "dd1669e8",
   "metadata": {},
   "outputs": [],
   "source": [
    "# Training function\n",
    "def train_model_fn(model, dataloader, criterion, optimizer):\n",
    "    model.train()\n",
    "    total_loss = 0\n",
    "    for X_batch, y_batch in tqdm(dataloader, desc=\"Training\", leave=False):\n",
    "        X_batch, y_batch = X_batch.cuda(), y_batch.float().cuda()  # Ensure target is float for BCEWithLogitsLoss\n",
    "        optimizer.zero_grad()\n",
    "        outputs = model(X_batch).squeeze()\n",
    "        loss = criterion(outputs, y_batch)\n",
    "        loss.backward()\n",
    "        optimizer.step()\n",
    "        total_loss += loss.item()\n",
    "    return total_loss / len(dataloader)\n",
    "\n",
    "# Evaluation function\n",
    "def evaluate_model_fn(model, dataloader, criterion):\n",
    "    model.eval()\n",
    "    total_loss = 0\n",
    "    all_labels = []\n",
    "    all_outputs = []\n",
    "    num_batches = len(dataloader)\n",
    "    \n",
    "    with torch.no_grad():\n",
    "        for batch_idx, (X_batch, y_batch) in enumerate(tqdm(dataloader, desc=\"Evaluation\", leave=False)):\n",
    "            X_batch, y_batch = X_batch.cuda(), y_batch.float().cuda()\n",
    "            outputs = model(X_batch).squeeze()\n",
    "            loss = criterion(outputs, y_batch)\n",
    "            total_loss += loss.item()\n",
    "            all_labels.extend(y_batch.cpu().numpy())\n",
    "            all_outputs.extend(torch.sigmoid(outputs).cpu().numpy())  # Use sigmoid to convert logits to probabilities\n",
    "\n",
    "            # Debug information: print batch index and batch size\n",
    "            if batch_idx % 100 == 0:  # Print every 100 batches\n",
    "                print(f\"Processed batch {batch_idx}/{num_batches}, batch size: {len(X_batch)}\")\n",
    "    \n",
    "    # Calculate metrics\n",
    "    all_labels = np.array(all_labels)\n",
    "    all_outputs = np.array(all_outputs)\n",
    "    \n",
    "    # Accuracy\n",
    "    predictions = [1 if x > 0.5 else 0 for x in all_outputs]\n",
    "    accuracy = accuracy_score(all_labels, predictions)\n",
    "    \n",
    "    # Precision, Recall, F1\n",
    "    precision = precision_score(all_labels, predictions, zero_division=1)\n",
    "    recall = recall_score(all_labels, predictions)\n",
    "    f1 = f1_score(all_labels, predictions)\n",
    "    \n",
    "    # AUC\n",
    "    auc = roc_auc_score(all_labels, all_outputs)\n",
    "    \n",
    "    # EER Calculation\n",
    "    fpr, tpr, thresholds = roc_curve(all_labels, all_outputs)\n",
    "    fnr = 1 - tpr\n",
    "    eer_threshold = thresholds[np.nanargmin(np.abs(fnr - fpr))]\n",
    "    eer = fpr[np.nanargmin(np.abs(fnr - fpr))]\n",
    "    \n",
    "    # Confusion Matrix\n",
    "    cm = confusion_matrix(all_labels, predictions)\n",
    "    \n",
    "    return total_loss / num_batches, accuracy, precision, recall, f1, auc, eer, cm\n"
   ]
  },
  {
   "cell_type": "code",
   "execution_count": 21,
   "id": "cf5e185f",
   "metadata": {},
   "outputs": [
    {
     "name": "stdout",
     "output_type": "stream",
     "text": [
      "Starting epoch 1/100\n"
     ]
    },
    {
     "name": "stderr",
     "output_type": "stream",
     "text": [
      "Evaluation:   4%|██▊                                                                   | 8/195 [00:00<00:04, 37.79it/s]"
     ]
    },
    {
     "name": "stdout",
     "output_type": "stream",
     "text": [
      "Processed batch 0/195, batch size: 128\n"
     ]
    },
    {
     "name": "stderr",
     "output_type": "stream",
     "text": [
      "Evaluation:  55%|█████████████████████████████████████▎                              | 107/195 [00:02<00:02, 38.75it/s]"
     ]
    },
    {
     "name": "stdout",
     "output_type": "stream",
     "text": [
      "Processed batch 100/195, batch size: 128\n"
     ]
    },
    {
     "name": "stderr",
     "output_type": "stream",
     "text": [
      "                                                                                                                       \r"
     ]
    },
    {
     "name": "stdout",
     "output_type": "stream",
     "text": [
      "Epoch 1/100, Train Loss: 0.2579, Val Loss: 0.2115, Val Accuracy: 0.9027, Val Precision: 0.9184, Val Recall: 0.9785, Val F1: 0.9475, Val AUC: 0.9022, Val EER: 0.1829\n",
      "Saved best model with Val EER: 0.1829 to W2V_best_mlp_crossmodel_asv21_DF_cnn01\n",
      "Starting epoch 2/100\n"
     ]
    },
    {
     "name": "stderr",
     "output_type": "stream",
     "text": [
      "Evaluation:   7%|████▌                                                               | 13/195 [00:00<00:01, 128.07it/s]"
     ]
    },
    {
     "name": "stdout",
     "output_type": "stream",
     "text": [
      "Processed batch 0/195, batch size: 128\n"
     ]
    },
    {
     "name": "stderr",
     "output_type": "stream",
     "text": [
      "Evaluation:  63%|█████████████████████████████████████████▉                         | 122/195 [00:00<00:00, 128.62it/s]"
     ]
    },
    {
     "name": "stdout",
     "output_type": "stream",
     "text": [
      "Processed batch 100/195, batch size: 128\n"
     ]
    },
    {
     "name": "stderr",
     "output_type": "stream",
     "text": [
      "                                                                                                                       \r"
     ]
    },
    {
     "name": "stdout",
     "output_type": "stream",
     "text": [
      "Epoch 2/100, Train Loss: 0.2281, Val Loss: 0.1974, Val Accuracy: 0.9110, Val Precision: 0.9164, Val Recall: 0.9912, Val F1: 0.9523, Val AUC: 0.9163, Val EER: 0.1703\n",
      "Saved best model with Val EER: 0.1703 to W2V_best_mlp_crossmodel_asv21_DF_cnn01\n",
      "Starting epoch 3/100\n"
     ]
    },
    {
     "name": "stderr",
     "output_type": "stream",
     "text": [
      "Evaluation:  14%|█████████▍                                                          | 27/195 [00:00<00:01, 132.66it/s]"
     ]
    },
    {
     "name": "stdout",
     "output_type": "stream",
     "text": [
      "Processed batch 0/195, batch size: 128\n"
     ]
    },
    {
     "name": "stderr",
     "output_type": "stream",
     "text": [
      "Evaluation:  59%|███████████████████████████████████████▊                           | 116/195 [00:00<00:00, 131.63it/s]"
     ]
    },
    {
     "name": "stdout",
     "output_type": "stream",
     "text": [
      "Processed batch 100/195, batch size: 128\n"
     ]
    },
    {
     "name": "stderr",
     "output_type": "stream",
     "text": [
      "                                                                                                                       \r"
     ]
    },
    {
     "name": "stdout",
     "output_type": "stream",
     "text": [
      "Epoch 3/100, Train Loss: 0.2108, Val Loss: 0.1876, Val Accuracy: 0.9157, Val Precision: 0.9214, Val Recall: 0.9906, Val F1: 0.9547, Val AUC: 0.9329, Val EER: 0.1472\n",
      "Saved best model with Val EER: 0.1472 to W2V_best_mlp_crossmodel_asv21_DF_cnn01\n",
      "Starting epoch 4/100\n"
     ]
    },
    {
     "name": "stderr",
     "output_type": "stream",
     "text": [
      "Evaluation:   6%|████▏                                                               | 12/195 [00:00<00:01, 119.38it/s]"
     ]
    },
    {
     "name": "stdout",
     "output_type": "stream",
     "text": [
      "Processed batch 0/195, batch size: 128\n"
     ]
    },
    {
     "name": "stderr",
     "output_type": "stream",
     "text": [
      "Evaluation:  66%|███████████████████████████████████████████▉                       | 128/195 [00:00<00:00, 140.67it/s]"
     ]
    },
    {
     "name": "stdout",
     "output_type": "stream",
     "text": [
      "Processed batch 100/195, batch size: 128\n"
     ]
    },
    {
     "name": "stderr",
     "output_type": "stream",
     "text": [
      "                                                                                                                       \r"
     ]
    },
    {
     "name": "stdout",
     "output_type": "stream",
     "text": [
      "Epoch 4/100, Train Loss: 0.1963, Val Loss: 0.1807, Val Accuracy: 0.9170, Val Precision: 0.9204, Val Recall: 0.9935, Val F1: 0.9555, Val AUC: 0.9390, Val EER: 0.1397\n",
      "Saved best model with Val EER: 0.1397 to W2V_best_mlp_crossmodel_asv21_DF_cnn01\n",
      "Starting epoch 5/100\n"
     ]
    },
    {
     "name": "stderr",
     "output_type": "stream",
     "text": [
      "Evaluation:  13%|█████████                                                           | 26/195 [00:00<00:01, 129.81it/s]"
     ]
    },
    {
     "name": "stdout",
     "output_type": "stream",
     "text": [
      "Processed batch 0/195, batch size: 128\n"
     ]
    },
    {
     "name": "stderr",
     "output_type": "stream",
     "text": [
      "Evaluation:  61%|████████████████████████████████████████▉                          | 119/195 [00:00<00:00, 125.84it/s]"
     ]
    },
    {
     "name": "stdout",
     "output_type": "stream",
     "text": [
      "Processed batch 100/195, batch size: 128\n"
     ]
    },
    {
     "name": "stderr",
     "output_type": "stream",
     "text": [
      "                                                                                                                       \r"
     ]
    },
    {
     "name": "stdout",
     "output_type": "stream",
     "text": [
      "Epoch 5/100, Train Loss: 0.1880, Val Loss: 0.1704, Val Accuracy: 0.9240, Val Precision: 0.9300, Val Recall: 0.9899, Val F1: 0.9590, Val AUC: 0.9427, Val EER: 0.1389\n",
      "Saved best model with Val EER: 0.1389 to W2V_best_mlp_crossmodel_asv21_DF_cnn01\n",
      "Starting epoch 6/100\n"
     ]
    },
    {
     "name": "stderr",
     "output_type": "stream",
     "text": [
      "Evaluation:  14%|█████████▊                                                          | 28/195 [00:00<00:01, 136.18it/s]"
     ]
    },
    {
     "name": "stdout",
     "output_type": "stream",
     "text": [
      "Processed batch 0/195, batch size: 128\n"
     ]
    },
    {
     "name": "stderr",
     "output_type": "stream",
     "text": [
      "Evaluation:  65%|███████████████████████████████████████████▎                       | 126/195 [00:00<00:00, 151.12it/s]"
     ]
    },
    {
     "name": "stdout",
     "output_type": "stream",
     "text": [
      "Processed batch 100/195, batch size: 128\n"
     ]
    },
    {
     "name": "stderr",
     "output_type": "stream",
     "text": [
      "                                                                                                                       \r"
     ]
    },
    {
     "name": "stdout",
     "output_type": "stream",
     "text": [
      "Epoch 6/100, Train Loss: 0.1764, Val Loss: 0.1672, Val Accuracy: 0.9263, Val Precision: 0.9310, Val Recall: 0.9913, Val F1: 0.9602, Val AUC: 0.9489, Val EER: 0.1307\n",
      "Saved best model with Val EER: 0.1307 to W2V_best_mlp_crossmodel_asv21_DF_cnn01\n",
      "Starting epoch 7/100\n"
     ]
    },
    {
     "name": "stderr",
     "output_type": "stream",
     "text": [
      "Evaluation:   8%|█████▏                                                              | 15/195 [00:00<00:01, 143.53it/s]"
     ]
    },
    {
     "name": "stdout",
     "output_type": "stream",
     "text": [
      "Processed batch 0/195, batch size: 128\n"
     ]
    },
    {
     "name": "stderr",
     "output_type": "stream",
     "text": [
      "Evaluation:  61%|████████████████████████████████████████▌                          | 118/195 [00:00<00:00, 158.35it/s]"
     ]
    },
    {
     "name": "stdout",
     "output_type": "stream",
     "text": [
      "Processed batch 100/195, batch size: 128\n"
     ]
    },
    {
     "name": "stderr",
     "output_type": "stream",
     "text": [
      "                                                                                                                       \r"
     ]
    },
    {
     "name": "stdout",
     "output_type": "stream",
     "text": [
      "Epoch 7/100, Train Loss: 0.1724, Val Loss: 0.1610, Val Accuracy: 0.9303, Val Precision: 0.9341, Val Recall: 0.9923, Val F1: 0.9623, Val AUC: 0.9562, Val EER: 0.1177\n",
      "Saved best model with Val EER: 0.1177 to W2V_best_mlp_crossmodel_asv21_DF_cnn01\n",
      "Starting epoch 8/100\n"
     ]
    },
    {
     "name": "stderr",
     "output_type": "stream",
     "text": [
      "Evaluation:   8%|█████▏                                                              | 15/195 [00:00<00:01, 146.32it/s]"
     ]
    },
    {
     "name": "stdout",
     "output_type": "stream",
     "text": [
      "Processed batch 0/195, batch size: 128\n"
     ]
    },
    {
     "name": "stderr",
     "output_type": "stream",
     "text": [
      "Evaluation:  61%|████████████████████████████████████████▌                          | 118/195 [00:00<00:00, 134.20it/s]"
     ]
    },
    {
     "name": "stdout",
     "output_type": "stream",
     "text": [
      "Processed batch 100/195, batch size: 128\n"
     ]
    },
    {
     "name": "stderr",
     "output_type": "stream",
     "text": [
      "                                                                                                                       \r"
     ]
    },
    {
     "name": "stdout",
     "output_type": "stream",
     "text": [
      "Epoch 8/100, Train Loss: 0.1651, Val Loss: 0.1521, Val Accuracy: 0.9328, Val Precision: 0.9364, Val Recall: 0.9925, Val F1: 0.9636, Val AUC: 0.9609, Val EER: 0.1111\n",
      "Saved best model with Val EER: 0.1111 to W2V_best_mlp_crossmodel_asv21_DF_cnn01\n",
      "Starting epoch 9/100\n"
     ]
    },
    {
     "name": "stderr",
     "output_type": "stream",
     "text": [
      "Evaluation:  14%|█████████▊                                                          | 28/195 [00:00<00:01, 140.76it/s]"
     ]
    },
    {
     "name": "stdout",
     "output_type": "stream",
     "text": [
      "Processed batch 0/195, batch size: 128\n"
     ]
    },
    {
     "name": "stderr",
     "output_type": "stream",
     "text": [
      "Evaluation:  63%|██████████████████████████████████████████▎                        | 123/195 [00:00<00:00, 152.92it/s]"
     ]
    },
    {
     "name": "stdout",
     "output_type": "stream",
     "text": [
      "Processed batch 100/195, batch size: 128\n"
     ]
    },
    {
     "name": "stderr",
     "output_type": "stream",
     "text": [
      "                                                                                                                       \r"
     ]
    },
    {
     "name": "stdout",
     "output_type": "stream",
     "text": [
      "Epoch 9/100, Train Loss: 0.1572, Val Loss: 0.1481, Val Accuracy: 0.9380, Val Precision: 0.9458, Val Recall: 0.9874, Val F1: 0.9662, Val AUC: 0.9633, Val EER: 0.1071\n",
      "Saved best model with Val EER: 0.1071 to W2V_best_mlp_crossmodel_asv21_DF_cnn01\n",
      "Starting epoch 10/100\n"
     ]
    },
    {
     "name": "stderr",
     "output_type": "stream",
     "text": [
      "Evaluation:   8%|█████▏                                                              | 15/195 [00:00<00:01, 140.83it/s]"
     ]
    },
    {
     "name": "stdout",
     "output_type": "stream",
     "text": [
      "Processed batch 0/195, batch size: 128\n"
     ]
    },
    {
     "name": "stderr",
     "output_type": "stream",
     "text": [
      "Evaluation:  62%|█████████████████████████████████████████▏                         | 120/195 [00:00<00:00, 142.33it/s]"
     ]
    },
    {
     "name": "stdout",
     "output_type": "stream",
     "text": [
      "Processed batch 100/195, batch size: 128\n"
     ]
    },
    {
     "name": "stderr",
     "output_type": "stream",
     "text": [
      "                                                                                                                       \r"
     ]
    },
    {
     "name": "stdout",
     "output_type": "stream",
     "text": [
      "Epoch 10/100, Train Loss: 0.1507, Val Loss: 0.1369, Val Accuracy: 0.9410, Val Precision: 0.9439, Val Recall: 0.9934, Val F1: 0.9680, Val AUC: 0.9700, Val EER: 0.0973\n",
      "Saved best model with Val EER: 0.0973 to W2V_best_mlp_crossmodel_asv21_DF_cnn01\n",
      "Starting epoch 11/100\n"
     ]
    },
    {
     "name": "stderr",
     "output_type": "stream",
     "text": [
      "Evaluation:   7%|████▉                                                               | 14/195 [00:00<00:01, 131.43it/s]"
     ]
    },
    {
     "name": "stdout",
     "output_type": "stream",
     "text": [
      "Processed batch 0/195, batch size: 128\n"
     ]
    },
    {
     "name": "stderr",
     "output_type": "stream",
     "text": [
      "Evaluation:  58%|███████████████████████████████████████▏                           | 114/195 [00:00<00:00, 137.02it/s]"
     ]
    },
    {
     "name": "stdout",
     "output_type": "stream",
     "text": [
      "Processed batch 100/195, batch size: 128\n"
     ]
    },
    {
     "name": "stderr",
     "output_type": "stream",
     "text": [
      "                                                                                                                       \r"
     ]
    },
    {
     "name": "stdout",
     "output_type": "stream",
     "text": [
      "Epoch 11/100, Train Loss: 0.1460, Val Loss: 0.1373, Val Accuracy: 0.9396, Val Precision: 0.9432, Val Recall: 0.9925, Val F1: 0.9672, Val AUC: 0.9655, Val EER: 0.1048\n",
      "Starting epoch 12/100\n"
     ]
    },
    {
     "name": "stderr",
     "output_type": "stream",
     "text": [
      "Evaluation:  14%|█████████▊                                                          | 28/195 [00:00<00:01, 137.68it/s]"
     ]
    },
    {
     "name": "stdout",
     "output_type": "stream",
     "text": [
      "Processed batch 0/195, batch size: 128\n"
     ]
    },
    {
     "name": "stderr",
     "output_type": "stream",
     "text": [
      "Evaluation:  59%|███████████████████████████████████████▊                           | 116/195 [00:00<00:00, 130.47it/s]"
     ]
    },
    {
     "name": "stdout",
     "output_type": "stream",
     "text": [
      "Processed batch 100/195, batch size: 128\n"
     ]
    },
    {
     "name": "stderr",
     "output_type": "stream",
     "text": [
      "                                                                                                                       \r"
     ]
    },
    {
     "name": "stdout",
     "output_type": "stream",
     "text": [
      "Epoch 12/100, Train Loss: 0.1380, Val Loss: 0.1277, Val Accuracy: 0.9434, Val Precision: 0.9478, Val Recall: 0.9916, Val F1: 0.9692, Val AUC: 0.9707, Val EER: 0.0946\n",
      "Saved best model with Val EER: 0.0946 to W2V_best_mlp_crossmodel_asv21_DF_cnn01\n",
      "Starting epoch 13/100\n"
     ]
    },
    {
     "name": "stderr",
     "output_type": "stream",
     "text": [
      "Evaluation:   6%|████▏                                                               | 12/195 [00:00<00:01, 119.39it/s]"
     ]
    },
    {
     "name": "stdout",
     "output_type": "stream",
     "text": [
      "Processed batch 0/195, batch size: 128\n"
     ]
    },
    {
     "name": "stderr",
     "output_type": "stream",
     "text": [
      "Evaluation:  62%|█████████████████████████████████████████▏                         | 120/195 [00:00<00:00, 137.51it/s]"
     ]
    },
    {
     "name": "stdout",
     "output_type": "stream",
     "text": [
      "Processed batch 100/195, batch size: 128\n"
     ]
    },
    {
     "name": "stderr",
     "output_type": "stream",
     "text": [
      "                                                                                                                       \r"
     ]
    },
    {
     "name": "stdout",
     "output_type": "stream",
     "text": [
      "Epoch 13/100, Train Loss: 0.1354, Val Loss: 0.1210, Val Accuracy: 0.9469, Val Precision: 0.9463, Val Recall: 0.9974, Val F1: 0.9712, Val AUC: 0.9761, Val EER: 0.0848\n",
      "Saved best model with Val EER: 0.0848 to W2V_best_mlp_crossmodel_asv21_DF_cnn01\n",
      "Starting epoch 14/100\n"
     ]
    },
    {
     "name": "stderr",
     "output_type": "stream",
     "text": [
      "Evaluation:   8%|█████▏                                                              | 15/195 [00:00<00:01, 147.76it/s]"
     ]
    },
    {
     "name": "stdout",
     "output_type": "stream",
     "text": [
      "Processed batch 0/195, batch size: 128\n"
     ]
    },
    {
     "name": "stderr",
     "output_type": "stream",
     "text": [
      "Evaluation:  62%|█████████████████████████████████████████▏                         | 120/195 [00:00<00:00, 125.38it/s]"
     ]
    },
    {
     "name": "stdout",
     "output_type": "stream",
     "text": [
      "Processed batch 100/195, batch size: 128\n"
     ]
    },
    {
     "name": "stderr",
     "output_type": "stream",
     "text": [
      "                                                                                                                       \r"
     ]
    },
    {
     "name": "stdout",
     "output_type": "stream",
     "text": [
      "Epoch 14/100, Train Loss: 0.1285, Val Loss: 0.1164, Val Accuracy: 0.9499, Val Precision: 0.9494, Val Recall: 0.9973, Val F1: 0.9728, Val AUC: 0.9786, Val EER: 0.0812\n",
      "Saved best model with Val EER: 0.0812 to W2V_best_mlp_crossmodel_asv21_DF_cnn01\n",
      "Starting epoch 15/100\n"
     ]
    },
    {
     "name": "stderr",
     "output_type": "stream",
     "text": [
      "Evaluation:   7%|████▌                                                               | 13/195 [00:00<00:01, 126.82it/s]"
     ]
    },
    {
     "name": "stdout",
     "output_type": "stream",
     "text": [
      "Processed batch 0/195, batch size: 128\n"
     ]
    },
    {
     "name": "stderr",
     "output_type": "stream",
     "text": [
      "Evaluation:  67%|█████████████████████████████████████████████                      | 131/195 [00:00<00:00, 152.56it/s]"
     ]
    },
    {
     "name": "stdout",
     "output_type": "stream",
     "text": [
      "Processed batch 100/195, batch size: 128\n"
     ]
    },
    {
     "name": "stderr",
     "output_type": "stream",
     "text": [
      "                                                                                                                       \r"
     ]
    },
    {
     "name": "stdout",
     "output_type": "stream",
     "text": [
      "Epoch 15/100, Train Loss: 0.1244, Val Loss: 0.1157, Val Accuracy: 0.9476, Val Precision: 0.9487, Val Recall: 0.9954, Val F1: 0.9715, Val AUC: 0.9779, Val EER: 0.0828\n",
      "Starting epoch 16/100\n"
     ]
    },
    {
     "name": "stderr",
     "output_type": "stream",
     "text": [
      "Evaluation:  14%|█████████▍                                                          | 27/195 [00:00<00:01, 130.31it/s]"
     ]
    },
    {
     "name": "stdout",
     "output_type": "stream",
     "text": [
      "Processed batch 0/195, batch size: 128\n"
     ]
    },
    {
     "name": "stderr",
     "output_type": "stream",
     "text": [
      "Evaluation:  59%|███████████████████████████████████████▌                           | 115/195 [00:00<00:00, 133.57it/s]"
     ]
    },
    {
     "name": "stdout",
     "output_type": "stream",
     "text": [
      "Processed batch 100/195, batch size: 128\n"
     ]
    },
    {
     "name": "stderr",
     "output_type": "stream",
     "text": [
      "                                                                                                                       \r"
     ]
    },
    {
     "name": "stdout",
     "output_type": "stream",
     "text": [
      "Epoch 16/100, Train Loss: 0.1214, Val Loss: 0.1080, Val Accuracy: 0.9520, Val Precision: 0.9521, Val Recall: 0.9967, Val F1: 0.9739, Val AUC: 0.9812, Val EER: 0.0754\n",
      "Saved best model with Val EER: 0.0754 to W2V_best_mlp_crossmodel_asv21_DF_cnn01\n",
      "Starting epoch 17/100\n"
     ]
    },
    {
     "name": "stderr",
     "output_type": "stream",
     "text": [
      "Evaluation:   6%|████▏                                                               | 12/195 [00:00<00:01, 111.61it/s]"
     ]
    },
    {
     "name": "stdout",
     "output_type": "stream",
     "text": [
      "Processed batch 0/195, batch size: 128\n"
     ]
    },
    {
     "name": "stderr",
     "output_type": "stream",
     "text": [
      "Evaluation:  58%|███████████████████████████████████████▏                           | 114/195 [00:00<00:00, 136.24it/s]"
     ]
    },
    {
     "name": "stdout",
     "output_type": "stream",
     "text": [
      "Processed batch 100/195, batch size: 128\n"
     ]
    },
    {
     "name": "stderr",
     "output_type": "stream",
     "text": [
      "                                                                                                                       \r"
     ]
    },
    {
     "name": "stdout",
     "output_type": "stream",
     "text": [
      "Epoch 17/100, Train Loss: 0.1198, Val Loss: 0.1092, Val Accuracy: 0.9511, Val Precision: 0.9496, Val Recall: 0.9984, Val F1: 0.9734, Val AUC: 0.9824, Val EER: 0.0750\n",
      "Saved best model with Val EER: 0.0750 to W2V_best_mlp_crossmodel_asv21_DF_cnn01\n",
      "Starting epoch 18/100\n"
     ]
    },
    {
     "name": "stderr",
     "output_type": "stream",
     "text": [
      "Evaluation:   8%|█████▌                                                              | 16/195 [00:00<00:01, 153.10it/s]"
     ]
    },
    {
     "name": "stdout",
     "output_type": "stream",
     "text": [
      "Processed batch 0/195, batch size: 128\n"
     ]
    },
    {
     "name": "stderr",
     "output_type": "stream",
     "text": [
      "Evaluation:  65%|███████████████████████████████████████████▋                       | 127/195 [00:00<00:00, 139.05it/s]"
     ]
    },
    {
     "name": "stdout",
     "output_type": "stream",
     "text": [
      "Processed batch 100/195, batch size: 128\n"
     ]
    },
    {
     "name": "stderr",
     "output_type": "stream",
     "text": [
      "                                                                                                                       \r"
     ]
    },
    {
     "name": "stdout",
     "output_type": "stream",
     "text": [
      "Epoch 18/100, Train Loss: 0.1130, Val Loss: 0.1052, Val Accuracy: 0.9543, Val Precision: 0.9523, Val Recall: 0.9992, Val F1: 0.9752, Val AUC: 0.9830, Val EER: 0.0742\n",
      "Saved best model with Val EER: 0.0742 to W2V_best_mlp_crossmodel_asv21_DF_cnn01\n",
      "Starting epoch 19/100\n"
     ]
    },
    {
     "name": "stderr",
     "output_type": "stream",
     "text": [
      "Evaluation:   7%|████▉                                                               | 14/195 [00:00<00:01, 135.25it/s]"
     ]
    },
    {
     "name": "stdout",
     "output_type": "stream",
     "text": [
      "Processed batch 0/195, batch size: 128\n"
     ]
    },
    {
     "name": "stderr",
     "output_type": "stream",
     "text": [
      "Evaluation:  64%|██████████████████████████████████████████▌                        | 124/195 [00:00<00:00, 143.93it/s]"
     ]
    },
    {
     "name": "stdout",
     "output_type": "stream",
     "text": [
      "Processed batch 100/195, batch size: 128\n"
     ]
    },
    {
     "name": "stderr",
     "output_type": "stream",
     "text": [
      "                                                                                                                       \r"
     ]
    },
    {
     "name": "stdout",
     "output_type": "stream",
     "text": [
      "Epoch 19/100, Train Loss: 0.1095, Val Loss: 0.1029, Val Accuracy: 0.9551, Val Precision: 0.9570, Val Recall: 0.9947, Val F1: 0.9755, Val AUC: 0.9826, Val EER: 0.0734\n",
      "Saved best model with Val EER: 0.0734 to W2V_best_mlp_crossmodel_asv21_DF_cnn01\n",
      "Starting epoch 20/100\n"
     ]
    },
    {
     "name": "stderr",
     "output_type": "stream",
     "text": [
      "Evaluation:   7%|████▉                                                               | 14/195 [00:00<00:01, 135.80it/s]"
     ]
    },
    {
     "name": "stdout",
     "output_type": "stream",
     "text": [
      "Processed batch 0/195, batch size: 128\n"
     ]
    },
    {
     "name": "stderr",
     "output_type": "stream",
     "text": [
      "Evaluation:  61%|████████████████████████████████████████▌                          | 118/195 [00:00<00:00, 132.81it/s]"
     ]
    },
    {
     "name": "stdout",
     "output_type": "stream",
     "text": [
      "Processed batch 100/195, batch size: 128\n"
     ]
    },
    {
     "name": "stderr",
     "output_type": "stream",
     "text": [
      "                                                                                                                       \r"
     ]
    },
    {
     "name": "stdout",
     "output_type": "stream",
     "text": [
      "Epoch 20/100, Train Loss: 0.1080, Val Loss: 0.0950, Val Accuracy: 0.9576, Val Precision: 0.9594, Val Recall: 0.9948, Val F1: 0.9768, Val AUC: 0.9860, Val EER: 0.0640\n",
      "Saved best model with Val EER: 0.0640 to W2V_best_mlp_crossmodel_asv21_DF_cnn01\n",
      "Starting epoch 21/100\n"
     ]
    },
    {
     "name": "stderr",
     "output_type": "stream",
     "text": [
      "Evaluation:   9%|█████▉                                                              | 17/195 [00:00<00:01, 165.83it/s]"
     ]
    },
    {
     "name": "stdout",
     "output_type": "stream",
     "text": [
      "Processed batch 0/195, batch size: 128\n"
     ]
    },
    {
     "name": "stderr",
     "output_type": "stream",
     "text": [
      "Evaluation:  59%|███████████████████████████████████████▌                           | 115/195 [00:00<00:00, 137.24it/s]"
     ]
    },
    {
     "name": "stdout",
     "output_type": "stream",
     "text": [
      "Processed batch 100/195, batch size: 128\n"
     ]
    },
    {
     "name": "stderr",
     "output_type": "stream",
     "text": [
      "                                                                                                                       \r"
     ]
    },
    {
     "name": "stdout",
     "output_type": "stream",
     "text": [
      "Epoch 21/100, Train Loss: 0.1037, Val Loss: 0.0917, Val Accuracy: 0.9601, Val Precision: 0.9609, Val Recall: 0.9961, Val F1: 0.9782, Val AUC: 0.9870, Val EER: 0.0632\n",
      "Saved best model with Val EER: 0.0632 to W2V_best_mlp_crossmodel_asv21_DF_cnn01\n",
      "Starting epoch 22/100\n"
     ]
    },
    {
     "name": "stderr",
     "output_type": "stream",
     "text": [
      "Evaluation:  14%|█████████▊                                                          | 28/195 [00:00<00:01, 137.43it/s]"
     ]
    },
    {
     "name": "stdout",
     "output_type": "stream",
     "text": [
      "Processed batch 0/195, batch size: 128\n"
     ]
    },
    {
     "name": "stderr",
     "output_type": "stream",
     "text": [
      "Evaluation:  61%|████████████████████████████████████████▌                          | 118/195 [00:00<00:00, 140.49it/s]"
     ]
    },
    {
     "name": "stdout",
     "output_type": "stream",
     "text": [
      "Processed batch 100/195, batch size: 128\n"
     ]
    },
    {
     "name": "stderr",
     "output_type": "stream",
     "text": [
      "                                                                                                                       \r"
     ]
    },
    {
     "name": "stdout",
     "output_type": "stream",
     "text": [
      "Epoch 22/100, Train Loss: 0.1023, Val Loss: 0.0881, Val Accuracy: 0.9613, Val Precision: 0.9622, Val Recall: 0.9960, Val F1: 0.9788, Val AUC: 0.9871, Val EER: 0.0640\n",
      "Starting epoch 23/100\n"
     ]
    },
    {
     "name": "stderr",
     "output_type": "stream",
     "text": [
      "Evaluation:   8%|█████▏                                                              | 15/195 [00:00<00:01, 149.24it/s]"
     ]
    },
    {
     "name": "stdout",
     "output_type": "stream",
     "text": [
      "Processed batch 0/195, batch size: 128\n"
     ]
    },
    {
     "name": "stderr",
     "output_type": "stream",
     "text": [
      "Evaluation:  59%|███████████████████████████████████████▌                           | 115/195 [00:00<00:00, 129.74it/s]"
     ]
    },
    {
     "name": "stdout",
     "output_type": "stream",
     "text": [
      "Processed batch 100/195, batch size: 128\n"
     ]
    },
    {
     "name": "stderr",
     "output_type": "stream",
     "text": [
      "                                                                                                                       \r"
     ]
    },
    {
     "name": "stdout",
     "output_type": "stream",
     "text": [
      "Epoch 23/100, Train Loss: 0.0986, Val Loss: 0.0885, Val Accuracy: 0.9615, Val Precision: 0.9607, Val Recall: 0.9978, Val F1: 0.9789, Val AUC: 0.9880, Val EER: 0.0612\n",
      "Saved best model with Val EER: 0.0612 to W2V_best_mlp_crossmodel_asv21_DF_cnn01\n",
      "Starting epoch 24/100\n"
     ]
    },
    {
     "name": "stderr",
     "output_type": "stream",
     "text": [
      "Evaluation:   7%|████▌                                                               | 13/195 [00:00<00:01, 126.82it/s]"
     ]
    },
    {
     "name": "stdout",
     "output_type": "stream",
     "text": [
      "Processed batch 0/195, batch size: 128\n"
     ]
    },
    {
     "name": "stderr",
     "output_type": "stream",
     "text": [
      "Evaluation:  63%|██████████████████████████████████████████▎                        | 123/195 [00:00<00:00, 158.27it/s]"
     ]
    },
    {
     "name": "stdout",
     "output_type": "stream",
     "text": [
      "Processed batch 100/195, batch size: 128\n"
     ]
    },
    {
     "name": "stderr",
     "output_type": "stream",
     "text": [
      "                                                                                                                       \r"
     ]
    },
    {
     "name": "stdout",
     "output_type": "stream",
     "text": [
      "Epoch 24/100, Train Loss: 0.0963, Val Loss: 0.0869, Val Accuracy: 0.9626, Val Precision: 0.9631, Val Recall: 0.9964, Val F1: 0.9795, Val AUC: 0.9882, Val EER: 0.0593\n",
      "Saved best model with Val EER: 0.0593 to W2V_best_mlp_crossmodel_asv21_DF_cnn01\n",
      "Starting epoch 25/100\n"
     ]
    },
    {
     "name": "stderr",
     "output_type": "stream",
     "text": [
      "Evaluation:  16%|██████████▊                                                         | 31/195 [00:00<00:01, 153.80it/s]"
     ]
    },
    {
     "name": "stdout",
     "output_type": "stream",
     "text": [
      "Processed batch 0/195, batch size: 128\n"
     ]
    },
    {
     "name": "stderr",
     "output_type": "stream",
     "text": [
      "Evaluation:  64%|██████████████████████████████████████████▌                        | 124/195 [00:00<00:00, 129.31it/s]"
     ]
    },
    {
     "name": "stdout",
     "output_type": "stream",
     "text": [
      "Processed batch 100/195, batch size: 128\n"
     ]
    },
    {
     "name": "stderr",
     "output_type": "stream",
     "text": [
      "                                                                                                                       \r"
     ]
    },
    {
     "name": "stdout",
     "output_type": "stream",
     "text": [
      "Epoch 25/100, Train Loss: 0.0930, Val Loss: 0.0842, Val Accuracy: 0.9649, Val Precision: 0.9683, Val Recall: 0.9933, Val F1: 0.9807, Val AUC: 0.9900, Val EER: 0.0542\n",
      "Saved best model with Val EER: 0.0542 to W2V_best_mlp_crossmodel_asv21_DF_cnn01\n",
      "Starting epoch 26/100\n"
     ]
    },
    {
     "name": "stderr",
     "output_type": "stream",
     "text": [
      "Evaluation:   7%|████▌                                                               | 13/195 [00:00<00:01, 124.90it/s]"
     ]
    },
    {
     "name": "stdout",
     "output_type": "stream",
     "text": [
      "Processed batch 0/195, batch size: 128\n"
     ]
    },
    {
     "name": "stderr",
     "output_type": "stream",
     "text": [
      "Evaluation:  59%|███████████████████████████████████████▌                           | 115/195 [00:00<00:00, 134.42it/s]"
     ]
    },
    {
     "name": "stdout",
     "output_type": "stream",
     "text": [
      "Processed batch 100/195, batch size: 128\n"
     ]
    },
    {
     "name": "stderr",
     "output_type": "stream",
     "text": [
      "                                                                                                                       \r"
     ]
    },
    {
     "name": "stdout",
     "output_type": "stream",
     "text": [
      "Epoch 26/100, Train Loss: 0.0922, Val Loss: 0.0832, Val Accuracy: 0.9617, Val Precision: 0.9596, Val Recall: 0.9994, Val F1: 0.9791, Val AUC: 0.9891, Val EER: 0.0573\n",
      "Starting epoch 27/100\n"
     ]
    },
    {
     "name": "stderr",
     "output_type": "stream",
     "text": [
      "Evaluation:   7%|████▌                                                               | 13/195 [00:00<00:01, 121.95it/s]"
     ]
    },
    {
     "name": "stdout",
     "output_type": "stream",
     "text": [
      "Processed batch 0/195, batch size: 128\n"
     ]
    },
    {
     "name": "stderr",
     "output_type": "stream",
     "text": [
      "Evaluation:  58%|██████████████████████████████████████▊                            | 113/195 [00:00<00:00, 131.78it/s]"
     ]
    },
    {
     "name": "stdout",
     "output_type": "stream",
     "text": [
      "Processed batch 100/195, batch size: 128\n"
     ]
    },
    {
     "name": "stderr",
     "output_type": "stream",
     "text": [
      "                                                                                                                       \r"
     ]
    },
    {
     "name": "stdout",
     "output_type": "stream",
     "text": [
      "Epoch 27/100, Train Loss: 0.0919, Val Loss: 0.0792, Val Accuracy: 0.9643, Val Precision: 0.9648, Val Recall: 0.9966, Val F1: 0.9805, Val AUC: 0.9908, Val EER: 0.0518\n",
      "Saved best model with Val EER: 0.0518 to W2V_best_mlp_crossmodel_asv21_DF_cnn01\n",
      "Starting epoch 28/100\n"
     ]
    },
    {
     "name": "stderr",
     "output_type": "stream",
     "text": [
      "Evaluation:   7%|████▉                                                               | 14/195 [00:00<00:01, 136.34it/s]"
     ]
    },
    {
     "name": "stdout",
     "output_type": "stream",
     "text": [
      "Processed batch 0/195, batch size: 128\n"
     ]
    },
    {
     "name": "stderr",
     "output_type": "stream",
     "text": [
      "Evaluation:  61%|████████████████████████████████████████▌                          | 118/195 [00:00<00:00, 161.45it/s]"
     ]
    },
    {
     "name": "stdout",
     "output_type": "stream",
     "text": [
      "Processed batch 100/195, batch size: 128\n"
     ]
    },
    {
     "name": "stderr",
     "output_type": "stream",
     "text": [
      "                                                                                                                       \r"
     ]
    },
    {
     "name": "stdout",
     "output_type": "stream",
     "text": [
      "Epoch 28/100, Train Loss: 0.0884, Val Loss: 0.0780, Val Accuracy: 0.9657, Val Precision: 0.9657, Val Recall: 0.9971, Val F1: 0.9812, Val AUC: 0.9916, Val EER: 0.0495\n",
      "Saved best model with Val EER: 0.0495 to W2V_best_mlp_crossmodel_asv21_DF_cnn01\n",
      "Starting epoch 29/100\n"
     ]
    },
    {
     "name": "stderr",
     "output_type": "stream",
     "text": [
      "Evaluation:   7%|████▉                                                               | 14/195 [00:00<00:01, 135.05it/s]"
     ]
    },
    {
     "name": "stdout",
     "output_type": "stream",
     "text": [
      "Processed batch 0/195, batch size: 128\n"
     ]
    },
    {
     "name": "stderr",
     "output_type": "stream",
     "text": [
      "Evaluation:  59%|███████████████████████████████████████▌                           | 115/195 [00:00<00:00, 133.60it/s]"
     ]
    },
    {
     "name": "stdout",
     "output_type": "stream",
     "text": [
      "Processed batch 100/195, batch size: 128\n"
     ]
    },
    {
     "name": "stderr",
     "output_type": "stream",
     "text": [
      "                                                                                                                       \r"
     ]
    },
    {
     "name": "stdout",
     "output_type": "stream",
     "text": [
      "Epoch 29/100, Train Loss: 0.0855, Val Loss: 0.0816, Val Accuracy: 0.9685, Val Precision: 0.9694, Val Recall: 0.9964, Val F1: 0.9827, Val AUC: 0.9923, Val EER: 0.0451\n",
      "Saved best model with Val EER: 0.0451 to W2V_best_mlp_crossmodel_asv21_DF_cnn01\n",
      "Starting epoch 30/100\n"
     ]
    },
    {
     "name": "stderr",
     "output_type": "stream",
     "text": [
      "Evaluation:   7%|████▌                                                               | 13/195 [00:00<00:01, 129.34it/s]"
     ]
    },
    {
     "name": "stdout",
     "output_type": "stream",
     "text": [
      "Processed batch 0/195, batch size: 128\n"
     ]
    },
    {
     "name": "stderr",
     "output_type": "stream",
     "text": [
      "Evaluation:  59%|███████████████████████████████████████▌                           | 115/195 [00:00<00:00, 140.85it/s]"
     ]
    },
    {
     "name": "stdout",
     "output_type": "stream",
     "text": [
      "Processed batch 100/195, batch size: 128\n"
     ]
    },
    {
     "name": "stderr",
     "output_type": "stream",
     "text": [
      "                                                                                                                       \r"
     ]
    },
    {
     "name": "stdout",
     "output_type": "stream",
     "text": [
      "Epoch 30/100, Train Loss: 0.0857, Val Loss: 0.0775, Val Accuracy: 0.9644, Val Precision: 0.9623, Val Recall: 0.9994, Val F1: 0.9805, Val AUC: 0.9912, Val EER: 0.0522\n",
      "Starting epoch 31/100\n"
     ]
    },
    {
     "name": "stderr",
     "output_type": "stream",
     "text": [
      "Evaluation:   7%|████▌                                                               | 13/195 [00:00<00:01, 124.39it/s]"
     ]
    },
    {
     "name": "stdout",
     "output_type": "stream",
     "text": [
      "Processed batch 0/195, batch size: 128\n"
     ]
    },
    {
     "name": "stderr",
     "output_type": "stream",
     "text": [
      "Evaluation:  67%|████████████████████████████████████████████▋                      | 130/195 [00:00<00:00, 138.58it/s]"
     ]
    },
    {
     "name": "stdout",
     "output_type": "stream",
     "text": [
      "Processed batch 100/195, batch size: 128\n"
     ]
    },
    {
     "name": "stderr",
     "output_type": "stream",
     "text": [
      "                                                                                                                       \r"
     ]
    },
    {
     "name": "stdout",
     "output_type": "stream",
     "text": [
      "Epoch 31/100, Train Loss: 0.0842, Val Loss: 0.0745, Val Accuracy: 0.9685, Val Precision: 0.9693, Val Recall: 0.9964, Val F1: 0.9827, Val AUC: 0.9919, Val EER: 0.0483\n",
      "Starting epoch 32/100\n"
     ]
    },
    {
     "name": "stderr",
     "output_type": "stream",
     "text": [
      "Evaluation:   8%|█████▌                                                              | 16/195 [00:00<00:01, 149.77it/s]"
     ]
    },
    {
     "name": "stdout",
     "output_type": "stream",
     "text": [
      "Processed batch 0/195, batch size: 128\n"
     ]
    },
    {
     "name": "stderr",
     "output_type": "stream",
     "text": [
      "Evaluation:  62%|█████████████████████████████████████████▏                         | 120/195 [00:00<00:00, 129.19it/s]"
     ]
    },
    {
     "name": "stdout",
     "output_type": "stream",
     "text": [
      "Processed batch 100/195, batch size: 128\n"
     ]
    },
    {
     "name": "stderr",
     "output_type": "stream",
     "text": [
      "                                                                                                                       \r"
     ]
    },
    {
     "name": "stdout",
     "output_type": "stream",
     "text": [
      "Epoch 32/100, Train Loss: 0.0826, Val Loss: 0.0756, Val Accuracy: 0.9653, Val Precision: 0.9634, Val Recall: 0.9994, Val F1: 0.9810, Val AUC: 0.9921, Val EER: 0.0502\n",
      "Starting epoch 33/100\n"
     ]
    },
    {
     "name": "stderr",
     "output_type": "stream",
     "text": [
      "Evaluation:  13%|█████████                                                           | 26/195 [00:00<00:01, 132.91it/s]"
     ]
    },
    {
     "name": "stdout",
     "output_type": "stream",
     "text": [
      "Processed batch 0/195, batch size: 128\n"
     ]
    },
    {
     "name": "stderr",
     "output_type": "stream",
     "text": [
      "Evaluation:  61%|████████████████████████████████████████▌                          | 118/195 [00:00<00:00, 148.80it/s]"
     ]
    },
    {
     "name": "stdout",
     "output_type": "stream",
     "text": [
      "Processed batch 100/195, batch size: 128\n"
     ]
    },
    {
     "name": "stderr",
     "output_type": "stream",
     "text": [
      "                                                                                                                       \r"
     ]
    },
    {
     "name": "stdout",
     "output_type": "stream",
     "text": [
      "Epoch 33/100, Train Loss: 0.0813, Val Loss: 0.0723, Val Accuracy: 0.9694, Val Precision: 0.9700, Val Recall: 0.9968, Val F1: 0.9832, Val AUC: 0.9927, Val EER: 0.0459\n",
      "Starting epoch 34/100\n"
     ]
    },
    {
     "name": "stderr",
     "output_type": "stream",
     "text": [
      "Evaluation:   7%|████▉                                                               | 14/195 [00:00<00:01, 133.96it/s]"
     ]
    },
    {
     "name": "stdout",
     "output_type": "stream",
     "text": [
      "Processed batch 0/195, batch size: 128\n"
     ]
    },
    {
     "name": "stderr",
     "output_type": "stream",
     "text": [
      "Evaluation:  66%|████████████████████████████████████████████▎                      | 129/195 [00:00<00:00, 152.49it/s]"
     ]
    },
    {
     "name": "stdout",
     "output_type": "stream",
     "text": [
      "Processed batch 100/195, batch size: 128\n"
     ]
    },
    {
     "name": "stderr",
     "output_type": "stream",
     "text": [
      "                                                                                                                       \r"
     ]
    },
    {
     "name": "stdout",
     "output_type": "stream",
     "text": [
      "Epoch 34/100, Train Loss: 0.0783, Val Loss: 0.0684, Val Accuracy: 0.9717, Val Precision: 0.9717, Val Recall: 0.9975, Val F1: 0.9844, Val AUC: 0.9942, Val EER: 0.0400\n",
      "Saved best model with Val EER: 0.0400 to W2V_best_mlp_crossmodel_asv21_DF_cnn01\n",
      "Starting epoch 35/100\n"
     ]
    },
    {
     "name": "stderr",
     "output_type": "stream",
     "text": [
      "Evaluation:   8%|█████▏                                                              | 15/195 [00:00<00:01, 142.16it/s]"
     ]
    },
    {
     "name": "stdout",
     "output_type": "stream",
     "text": [
      "Processed batch 0/195, batch size: 128\n"
     ]
    },
    {
     "name": "stderr",
     "output_type": "stream",
     "text": [
      "Evaluation:  66%|███████████████████████████████████████████▉                       | 128/195 [00:00<00:00, 127.36it/s]"
     ]
    },
    {
     "name": "stdout",
     "output_type": "stream",
     "text": [
      "Processed batch 100/195, batch size: 128\n"
     ]
    },
    {
     "name": "stderr",
     "output_type": "stream",
     "text": [
      "                                                                                                                       \r"
     ]
    },
    {
     "name": "stdout",
     "output_type": "stream",
     "text": [
      "Epoch 35/100, Train Loss: 0.0811, Val Loss: 0.0682, Val Accuracy: 0.9692, Val Precision: 0.9689, Val Recall: 0.9977, Val F1: 0.9831, Val AUC: 0.9934, Val EER: 0.0424\n",
      "Starting epoch 36/100\n"
     ]
    },
    {
     "name": "stderr",
     "output_type": "stream",
     "text": [
      "Evaluation:   7%|████▌                                                               | 13/195 [00:00<00:01, 123.77it/s]"
     ]
    },
    {
     "name": "stdout",
     "output_type": "stream",
     "text": [
      "Processed batch 0/195, batch size: 128\n"
     ]
    },
    {
     "name": "stderr",
     "output_type": "stream",
     "text": [
      "Evaluation:  59%|███████████████████████████████████████▊                           | 116/195 [00:00<00:00, 142.56it/s]"
     ]
    },
    {
     "name": "stdout",
     "output_type": "stream",
     "text": [
      "Processed batch 100/195, batch size: 128\n"
     ]
    },
    {
     "name": "stderr",
     "output_type": "stream",
     "text": [
      "                                                                                                                       \r"
     ]
    },
    {
     "name": "stdout",
     "output_type": "stream",
     "text": [
      "Epoch 36/100, Train Loss: 0.0751, Val Loss: 0.0659, Val Accuracy: 0.9715, Val Precision: 0.9705, Val Recall: 0.9987, Val F1: 0.9844, Val AUC: 0.9942, Val EER: 0.0412\n",
      "Starting epoch 37/100\n"
     ]
    },
    {
     "name": "stderr",
     "output_type": "stream",
     "text": [
      "Evaluation:   7%|████▌                                                               | 13/195 [00:00<00:01, 126.82it/s]"
     ]
    },
    {
     "name": "stdout",
     "output_type": "stream",
     "text": [
      "Processed batch 0/195, batch size: 128\n"
     ]
    },
    {
     "name": "stderr",
     "output_type": "stream",
     "text": [
      "Evaluation:  63%|██████████████████████████████████████████▎                        | 123/195 [00:00<00:00, 127.29it/s]"
     ]
    },
    {
     "name": "stdout",
     "output_type": "stream",
     "text": [
      "Processed batch 100/195, batch size: 128\n"
     ]
    },
    {
     "name": "stderr",
     "output_type": "stream",
     "text": [
      "                                                                                                                       \r"
     ]
    },
    {
     "name": "stdout",
     "output_type": "stream",
     "text": [
      "Epoch 37/100, Train Loss: 0.0765, Val Loss: 0.0674, Val Accuracy: 0.9723, Val Precision: 0.9740, Val Recall: 0.9957, Val F1: 0.9847, Val AUC: 0.9943, Val EER: 0.0408\n",
      "Starting epoch 38/100\n"
     ]
    },
    {
     "name": "stderr",
     "output_type": "stream",
     "text": [
      "Evaluation:   6%|████▏                                                               | 12/195 [00:00<00:01, 115.92it/s]"
     ]
    },
    {
     "name": "stdout",
     "output_type": "stream",
     "text": [
      "Processed batch 0/195, batch size: 128\n"
     ]
    },
    {
     "name": "stderr",
     "output_type": "stream",
     "text": [
      "Evaluation:  60%|████████████████████████████████████████▏                          | 117/195 [00:00<00:00, 130.12it/s]"
     ]
    },
    {
     "name": "stdout",
     "output_type": "stream",
     "text": [
      "Processed batch 100/195, batch size: 128\n"
     ]
    },
    {
     "name": "stderr",
     "output_type": "stream",
     "text": [
      "                                                                                                                       \r"
     ]
    },
    {
     "name": "stdout",
     "output_type": "stream",
     "text": [
      "Epoch 38/100, Train Loss: 0.0758, Val Loss: 0.0616, Val Accuracy: 0.9733, Val Precision: 0.9745, Val Recall: 0.9964, Val F1: 0.9853, Val AUC: 0.9946, Val EER: 0.0396\n",
      "Saved best model with Val EER: 0.0396 to W2V_best_mlp_crossmodel_asv21_DF_cnn01\n",
      "Starting epoch 39/100\n"
     ]
    },
    {
     "name": "stderr",
     "output_type": "stream",
     "text": [
      "Evaluation:   7%|████▌                                                               | 13/195 [00:00<00:01, 120.92it/s]"
     ]
    },
    {
     "name": "stdout",
     "output_type": "stream",
     "text": [
      "Processed batch 0/195, batch size: 128\n"
     ]
    },
    {
     "name": "stderr",
     "output_type": "stream",
     "text": [
      "Evaluation:  59%|███████████████████████████████████████▌                           | 115/195 [00:00<00:00, 136.89it/s]"
     ]
    },
    {
     "name": "stdout",
     "output_type": "stream",
     "text": [
      "Processed batch 100/195, batch size: 128\n"
     ]
    },
    {
     "name": "stderr",
     "output_type": "stream",
     "text": [
      "                                                                                                                       \r"
     ]
    },
    {
     "name": "stdout",
     "output_type": "stream",
     "text": [
      "Epoch 39/100, Train Loss: 0.0721, Val Loss: 0.0640, Val Accuracy: 0.9722, Val Precision: 0.9714, Val Recall: 0.9984, Val F1: 0.9847, Val AUC: 0.9947, Val EER: 0.0396\n",
      "Starting epoch 40/100\n"
     ]
    },
    {
     "name": "stderr",
     "output_type": "stream",
     "text": [
      "Evaluation:  14%|█████████▊                                                          | 28/195 [00:00<00:01, 126.28it/s]"
     ]
    },
    {
     "name": "stdout",
     "output_type": "stream",
     "text": [
      "Processed batch 0/195, batch size: 128\n"
     ]
    },
    {
     "name": "stderr",
     "output_type": "stream",
     "text": [
      "Evaluation:  65%|███████████████████████████████████████████▎                       | 126/195 [00:00<00:00, 129.86it/s]"
     ]
    },
    {
     "name": "stdout",
     "output_type": "stream",
     "text": [
      "Processed batch 100/195, batch size: 128\n"
     ]
    },
    {
     "name": "stderr",
     "output_type": "stream",
     "text": [
      "                                                                                                                       \r"
     ]
    },
    {
     "name": "stdout",
     "output_type": "stream",
     "text": [
      "Epoch 40/100, Train Loss: 0.0729, Val Loss: 0.0637, Val Accuracy: 0.9742, Val Precision: 0.9762, Val Recall: 0.9956, Val F1: 0.9858, Val AUC: 0.9943, Val EER: 0.0424\n",
      "Starting epoch 41/100\n"
     ]
    },
    {
     "name": "stderr",
     "output_type": "stream",
     "text": [
      "Evaluation:   8%|█████▌                                                              | 16/195 [00:00<00:01, 150.27it/s]"
     ]
    },
    {
     "name": "stdout",
     "output_type": "stream",
     "text": [
      "Processed batch 0/195, batch size: 128\n"
     ]
    },
    {
     "name": "stderr",
     "output_type": "stream",
     "text": [
      "Evaluation:  60%|████████████████████████████████████████▏                          | 117/195 [00:00<00:00, 135.48it/s]"
     ]
    },
    {
     "name": "stdout",
     "output_type": "stream",
     "text": [
      "Processed batch 100/195, batch size: 128\n"
     ]
    },
    {
     "name": "stderr",
     "output_type": "stream",
     "text": [
      "                                                                                                                       \r"
     ]
    },
    {
     "name": "stdout",
     "output_type": "stream",
     "text": [
      "Epoch 41/100, Train Loss: 0.0726, Val Loss: 0.0601, Val Accuracy: 0.9747, Val Precision: 0.9763, Val Recall: 0.9960, Val F1: 0.9860, Val AUC: 0.9949, Val EER: 0.0381\n",
      "Saved best model with Val EER: 0.0381 to W2V_best_mlp_crossmodel_asv21_DF_cnn01\n",
      "Starting epoch 42/100\n"
     ]
    },
    {
     "name": "stderr",
     "output_type": "stream",
     "text": [
      "Evaluation:   7%|████▌                                                               | 13/195 [00:00<00:01, 123.47it/s]"
     ]
    },
    {
     "name": "stdout",
     "output_type": "stream",
     "text": [
      "Processed batch 0/195, batch size: 128\n"
     ]
    },
    {
     "name": "stderr",
     "output_type": "stream",
     "text": [
      "Evaluation:  64%|██████████████████████████████████████████▉                        | 125/195 [00:00<00:00, 133.94it/s]"
     ]
    },
    {
     "name": "stdout",
     "output_type": "stream",
     "text": [
      "Processed batch 100/195, batch size: 128\n"
     ]
    },
    {
     "name": "stderr",
     "output_type": "stream",
     "text": [
      "                                                                                                                       \r"
     ]
    },
    {
     "name": "stdout",
     "output_type": "stream",
     "text": [
      "Epoch 42/100, Train Loss: 0.0700, Val Loss: 0.0633, Val Accuracy: 0.9742, Val Precision: 0.9735, Val Recall: 0.9984, Val F1: 0.9858, Val AUC: 0.9946, Val EER: 0.0420\n",
      "Starting epoch 43/100\n"
     ]
    },
    {
     "name": "stderr",
     "output_type": "stream",
     "text": [
      "Evaluation:   8%|█████▌                                                              | 16/195 [00:00<00:01, 154.58it/s]"
     ]
    },
    {
     "name": "stdout",
     "output_type": "stream",
     "text": [
      "Processed batch 0/195, batch size: 128\n"
     ]
    },
    {
     "name": "stderr",
     "output_type": "stream",
     "text": [
      "Evaluation:  64%|██████████████████████████████████████████▌                        | 124/195 [00:00<00:00, 133.36it/s]"
     ]
    },
    {
     "name": "stdout",
     "output_type": "stream",
     "text": [
      "Processed batch 100/195, batch size: 128\n"
     ]
    },
    {
     "name": "stderr",
     "output_type": "stream",
     "text": [
      "                                                                                                                       \r"
     ]
    },
    {
     "name": "stdout",
     "output_type": "stream",
     "text": [
      "Epoch 43/100, Train Loss: 0.0678, Val Loss: 0.0607, Val Accuracy: 0.9705, Val Precision: 0.9686, Val Recall: 0.9996, Val F1: 0.9838, Val AUC: 0.9957, Val EER: 0.0349\n",
      "Saved best model with Val EER: 0.0349 to W2V_best_mlp_crossmodel_asv21_DF_cnn01\n",
      "Starting epoch 44/100\n"
     ]
    },
    {
     "name": "stderr",
     "output_type": "stream",
     "text": [
      "Evaluation:   8%|█████▏                                                              | 15/195 [00:00<00:01, 144.91it/s]"
     ]
    },
    {
     "name": "stdout",
     "output_type": "stream",
     "text": [
      "Processed batch 0/195, batch size: 128\n"
     ]
    },
    {
     "name": "stderr",
     "output_type": "stream",
     "text": [
      "Evaluation:  60%|████████████████████████████████████████▏                          | 117/195 [00:00<00:00, 127.23it/s]"
     ]
    },
    {
     "name": "stdout",
     "output_type": "stream",
     "text": [
      "Processed batch 100/195, batch size: 128\n"
     ]
    },
    {
     "name": "stderr",
     "output_type": "stream",
     "text": [
      "                                                                                                                       \r"
     ]
    },
    {
     "name": "stdout",
     "output_type": "stream",
     "text": [
      "Epoch 44/100, Train Loss: 0.0667, Val Loss: 0.0563, Val Accuracy: 0.9740, Val Precision: 0.9726, Val Recall: 0.9991, Val F1: 0.9857, Val AUC: 0.9963, Val EER: 0.0345\n",
      "Saved best model with Val EER: 0.0345 to W2V_best_mlp_crossmodel_asv21_DF_cnn01\n",
      "Starting epoch 45/100\n"
     ]
    },
    {
     "name": "stderr",
     "output_type": "stream",
     "text": [
      "Evaluation:   7%|████▉                                                               | 14/195 [00:00<00:01, 132.02it/s]"
     ]
    },
    {
     "name": "stdout",
     "output_type": "stream",
     "text": [
      "Processed batch 0/195, batch size: 128\n"
     ]
    },
    {
     "name": "stderr",
     "output_type": "stream",
     "text": [
      "Evaluation:  62%|█████████████████████████████████████████▏                         | 120/195 [00:00<00:00, 140.48it/s]"
     ]
    },
    {
     "name": "stdout",
     "output_type": "stream",
     "text": [
      "Processed batch 100/195, batch size: 128\n"
     ]
    },
    {
     "name": "stderr",
     "output_type": "stream",
     "text": [
      "                                                                                                                       \r"
     ]
    },
    {
     "name": "stdout",
     "output_type": "stream",
     "text": [
      "Epoch 45/100, Train Loss: 0.0690, Val Loss: 0.0592, Val Accuracy: 0.9764, Val Precision: 0.9770, Val Recall: 0.9972, Val F1: 0.9870, Val AUC: 0.9959, Val EER: 0.0330\n",
      "Saved best model with Val EER: 0.0330 to W2V_best_mlp_crossmodel_asv21_DF_cnn01\n",
      "Starting epoch 46/100\n"
     ]
    },
    {
     "name": "stderr",
     "output_type": "stream",
     "text": [
      "Evaluation:   8%|█████▌                                                              | 16/195 [00:00<00:01, 157.62it/s]"
     ]
    },
    {
     "name": "stdout",
     "output_type": "stream",
     "text": [
      "Processed batch 0/195, batch size: 128\n"
     ]
    },
    {
     "name": "stderr",
     "output_type": "stream",
     "text": [
      "Evaluation:  65%|███████████████████████████████████████████▎                       | 126/195 [00:00<00:00, 138.39it/s]"
     ]
    },
    {
     "name": "stdout",
     "output_type": "stream",
     "text": [
      "Processed batch 100/195, batch size: 128\n"
     ]
    },
    {
     "name": "stderr",
     "output_type": "stream",
     "text": [
      "                                                                                                                       \r"
     ]
    },
    {
     "name": "stdout",
     "output_type": "stream",
     "text": [
      "Epoch 46/100, Train Loss: 0.0654, Val Loss: 0.0592, Val Accuracy: 0.9757, Val Precision: 0.9754, Val Recall: 0.9981, Val F1: 0.9866, Val AUC: 0.9962, Val EER: 0.0330\n",
      "Starting epoch 47/100\n"
     ]
    },
    {
     "name": "stderr",
     "output_type": "stream",
     "text": [
      "Evaluation:   7%|████▉                                                               | 14/195 [00:00<00:01, 135.25it/s]"
     ]
    },
    {
     "name": "stdout",
     "output_type": "stream",
     "text": [
      "Processed batch 0/195, batch size: 128\n"
     ]
    },
    {
     "name": "stderr",
     "output_type": "stream",
     "text": [
      "Evaluation:  63%|██████████████████████████████████████████▎                        | 123/195 [00:00<00:00, 129.95it/s]"
     ]
    },
    {
     "name": "stdout",
     "output_type": "stream",
     "text": [
      "Processed batch 100/195, batch size: 128\n"
     ]
    },
    {
     "name": "stderr",
     "output_type": "stream",
     "text": [
      "                                                                                                                       \r"
     ]
    },
    {
     "name": "stdout",
     "output_type": "stream",
     "text": [
      "Epoch 47/100, Train Loss: 0.0640, Val Loss: 0.0545, Val Accuracy: 0.9749, Val Precision: 0.9740, Val Recall: 0.9987, Val F1: 0.9862, Val AUC: 0.9960, Val EER: 0.0334\n",
      "Starting epoch 48/100\n"
     ]
    },
    {
     "name": "stderr",
     "output_type": "stream",
     "text": [
      "Evaluation:   6%|████▏                                                               | 12/195 [00:00<00:01, 115.64it/s]"
     ]
    },
    {
     "name": "stdout",
     "output_type": "stream",
     "text": [
      "Processed batch 0/195, batch size: 128\n"
     ]
    },
    {
     "name": "stderr",
     "output_type": "stream",
     "text": [
      "Evaluation:  62%|█████████████████████████████████████████▏                         | 120/195 [00:00<00:00, 134.22it/s]"
     ]
    },
    {
     "name": "stdout",
     "output_type": "stream",
     "text": [
      "Processed batch 100/195, batch size: 128\n"
     ]
    },
    {
     "name": "stderr",
     "output_type": "stream",
     "text": [
      "                                                                                                                       \r"
     ]
    },
    {
     "name": "stdout",
     "output_type": "stream",
     "text": [
      "Epoch 48/100, Train Loss: 0.0636, Val Loss: 0.0524, Val Accuracy: 0.9781, Val Precision: 0.9788, Val Recall: 0.9972, Val F1: 0.9879, Val AUC: 0.9965, Val EER: 0.0306\n",
      "Saved best model with Val EER: 0.0306 to W2V_best_mlp_crossmodel_asv21_DF_cnn01\n",
      "Starting epoch 49/100\n"
     ]
    },
    {
     "name": "stderr",
     "output_type": "stream",
     "text": [
      "Evaluation:  13%|████████▋                                                           | 25/195 [00:00<00:01, 124.47it/s]"
     ]
    },
    {
     "name": "stdout",
     "output_type": "stream",
     "text": [
      "Processed batch 0/195, batch size: 128\n"
     ]
    },
    {
     "name": "stderr",
     "output_type": "stream",
     "text": [
      "Evaluation:  64%|██████████████████████████████████████████▌                        | 124/195 [00:00<00:00, 132.53it/s]"
     ]
    },
    {
     "name": "stdout",
     "output_type": "stream",
     "text": [
      "Processed batch 100/195, batch size: 128\n"
     ]
    },
    {
     "name": "stderr",
     "output_type": "stream",
     "text": [
      "                                                                                                                       \r"
     ]
    },
    {
     "name": "stdout",
     "output_type": "stream",
     "text": [
      "Epoch 49/100, Train Loss: 0.0660, Val Loss: 0.0553, Val Accuracy: 0.9765, Val Precision: 0.9751, Val Recall: 0.9992, Val F1: 0.9870, Val AUC: 0.9962, Val EER: 0.0334\n",
      "Starting epoch 50/100\n"
     ]
    },
    {
     "name": "stderr",
     "output_type": "stream",
     "text": [
      "Evaluation:   6%|████▏                                                               | 12/195 [00:00<00:01, 118.21it/s]"
     ]
    },
    {
     "name": "stdout",
     "output_type": "stream",
     "text": [
      "Processed batch 0/195, batch size: 128\n"
     ]
    },
    {
     "name": "stderr",
     "output_type": "stream",
     "text": [
      "Evaluation:  65%|███████████████████████████████████████████▎                       | 126/195 [00:00<00:00, 139.05it/s]"
     ]
    },
    {
     "name": "stdout",
     "output_type": "stream",
     "text": [
      "Processed batch 100/195, batch size: 128\n"
     ]
    },
    {
     "name": "stderr",
     "output_type": "stream",
     "text": [
      "                                                                                                                       \r"
     ]
    },
    {
     "name": "stdout",
     "output_type": "stream",
     "text": [
      "Epoch 50/100, Train Loss: 0.0648, Val Loss: 0.0541, Val Accuracy: 0.9769, Val Precision: 0.9756, Val Recall: 0.9991, Val F1: 0.9873, Val AUC: 0.9962, Val EER: 0.0345\n",
      "Starting epoch 51/100\n"
     ]
    },
    {
     "name": "stderr",
     "output_type": "stream",
     "text": [
      "Evaluation:  13%|█████████                                                           | 26/195 [00:00<00:01, 125.09it/s]"
     ]
    },
    {
     "name": "stdout",
     "output_type": "stream",
     "text": [
      "Processed batch 0/195, batch size: 128\n"
     ]
    },
    {
     "name": "stderr",
     "output_type": "stream",
     "text": [
      "Evaluation:  66%|████████████████████████████████████████████▎                      | 129/195 [00:00<00:00, 142.56it/s]"
     ]
    },
    {
     "name": "stdout",
     "output_type": "stream",
     "text": [
      "Processed batch 100/195, batch size: 128\n"
     ]
    },
    {
     "name": "stderr",
     "output_type": "stream",
     "text": [
      "                                                                                                                       \r"
     ]
    },
    {
     "name": "stdout",
     "output_type": "stream",
     "text": [
      "Epoch 51/100, Train Loss: 0.0615, Val Loss: 0.0499, Val Accuracy: 0.9802, Val Precision: 0.9811, Val Recall: 0.9971, Val F1: 0.9890, Val AUC: 0.9967, Val EER: 0.0306\n",
      "Starting epoch 52/100\n"
     ]
    },
    {
     "name": "stderr",
     "output_type": "stream",
     "text": [
      "Evaluation:   9%|█████▉                                                              | 17/195 [00:00<00:01, 159.60it/s]"
     ]
    },
    {
     "name": "stdout",
     "output_type": "stream",
     "text": [
      "Processed batch 0/195, batch size: 128\n"
     ]
    },
    {
     "name": "stderr",
     "output_type": "stream",
     "text": [
      "Evaluation:  62%|█████████████████████████████████████████▌                         | 121/195 [00:00<00:00, 134.29it/s]"
     ]
    },
    {
     "name": "stdout",
     "output_type": "stream",
     "text": [
      "Processed batch 100/195, batch size: 128\n"
     ]
    },
    {
     "name": "stderr",
     "output_type": "stream",
     "text": [
      "                                                                                                                       \r"
     ]
    },
    {
     "name": "stdout",
     "output_type": "stream",
     "text": [
      "Epoch 52/100, Train Loss: 0.0605, Val Loss: 0.0513, Val Accuracy: 0.9763, Val Precision: 0.9753, Val Recall: 0.9989, Val F1: 0.9870, Val AUC: 0.9968, Val EER: 0.0294\n",
      "Saved best model with Val EER: 0.0294 to W2V_best_mlp_crossmodel_asv21_DF_cnn01\n",
      "Starting epoch 53/100\n"
     ]
    },
    {
     "name": "stderr",
     "output_type": "stream",
     "text": [
      "Evaluation:   6%|████▏                                                               | 12/195 [00:00<00:01, 119.41it/s]"
     ]
    },
    {
     "name": "stdout",
     "output_type": "stream",
     "text": [
      "Processed batch 0/195, batch size: 128\n"
     ]
    },
    {
     "name": "stderr",
     "output_type": "stream",
     "text": [
      "Evaluation:  64%|██████████████████████████████████████████▉                        | 125/195 [00:00<00:00, 129.63it/s]"
     ]
    },
    {
     "name": "stdout",
     "output_type": "stream",
     "text": [
      "Processed batch 100/195, batch size: 128\n"
     ]
    },
    {
     "name": "stderr",
     "output_type": "stream",
     "text": [
      "                                                                                                                       \r"
     ]
    },
    {
     "name": "stdout",
     "output_type": "stream",
     "text": [
      "Epoch 53/100, Train Loss: 0.0601, Val Loss: 0.0505, Val Accuracy: 0.9784, Val Precision: 0.9783, Val Recall: 0.9981, Val F1: 0.9881, Val AUC: 0.9968, Val EER: 0.0306\n",
      "Starting epoch 54/100\n"
     ]
    },
    {
     "name": "stderr",
     "output_type": "stream",
     "text": [
      "Evaluation:   7%|████▉                                                               | 14/195 [00:00<00:01, 139.29it/s]"
     ]
    },
    {
     "name": "stdout",
     "output_type": "stream",
     "text": [
      "Processed batch 0/195, batch size: 128\n"
     ]
    },
    {
     "name": "stderr",
     "output_type": "stream",
     "text": [
      "Evaluation:  66%|███████████████████████████████████████████▉                       | 128/195 [00:00<00:00, 133.11it/s]"
     ]
    },
    {
     "name": "stdout",
     "output_type": "stream",
     "text": [
      "Processed batch 100/195, batch size: 128\n"
     ]
    },
    {
     "name": "stderr",
     "output_type": "stream",
     "text": [
      "                                                                                                                       \r"
     ]
    },
    {
     "name": "stdout",
     "output_type": "stream",
     "text": [
      "Epoch 54/100, Train Loss: 0.0598, Val Loss: 0.0496, Val Accuracy: 0.9777, Val Precision: 0.9765, Val Recall: 0.9992, Val F1: 0.9877, Val AUC: 0.9972, Val EER: 0.0275\n",
      "Saved best model with Val EER: 0.0275 to W2V_best_mlp_crossmodel_asv21_DF_cnn01\n",
      "Starting epoch 55/100\n"
     ]
    },
    {
     "name": "stderr",
     "output_type": "stream",
     "text": [
      "Evaluation:   7%|████▉                                                               | 14/195 [00:00<00:01, 136.57it/s]"
     ]
    },
    {
     "name": "stdout",
     "output_type": "stream",
     "text": [
      "Processed batch 0/195, batch size: 128\n"
     ]
    },
    {
     "name": "stderr",
     "output_type": "stream",
     "text": [
      "Evaluation:  63%|██████████████████████████████████████████▎                        | 123/195 [00:00<00:00, 138.16it/s]"
     ]
    },
    {
     "name": "stdout",
     "output_type": "stream",
     "text": [
      "Processed batch 100/195, batch size: 128\n"
     ]
    },
    {
     "name": "stderr",
     "output_type": "stream",
     "text": [
      "                                                                                                                       \r"
     ]
    },
    {
     "name": "stdout",
     "output_type": "stream",
     "text": [
      "Epoch 55/100, Train Loss: 0.0601, Val Loss: 0.0505, Val Accuracy: 0.9803, Val Precision: 0.9810, Val Recall: 0.9974, Val F1: 0.9891, Val AUC: 0.9971, Val EER: 0.0298\n",
      "Starting epoch 56/100\n"
     ]
    },
    {
     "name": "stderr",
     "output_type": "stream",
     "text": [
      "Evaluation:   6%|████▏                                                               | 12/195 [00:00<00:01, 116.93it/s]"
     ]
    },
    {
     "name": "stdout",
     "output_type": "stream",
     "text": [
      "Processed batch 0/195, batch size: 128\n"
     ]
    },
    {
     "name": "stderr",
     "output_type": "stream",
     "text": [
      "Evaluation:  62%|█████████████████████████████████████████▌                         | 121/195 [00:00<00:00, 141.03it/s]"
     ]
    },
    {
     "name": "stdout",
     "output_type": "stream",
     "text": [
      "Processed batch 100/195, batch size: 128\n"
     ]
    },
    {
     "name": "stderr",
     "output_type": "stream",
     "text": [
      "                                                                                                                       \r"
     ]
    },
    {
     "name": "stdout",
     "output_type": "stream",
     "text": [
      "Epoch 56/100, Train Loss: 0.0577, Val Loss: 0.0480, Val Accuracy: 0.9818, Val Precision: 0.9820, Val Recall: 0.9980, Val F1: 0.9899, Val AUC: 0.9974, Val EER: 0.0286\n",
      "Starting epoch 57/100\n"
     ]
    },
    {
     "name": "stderr",
     "output_type": "stream",
     "text": [
      "Evaluation:   6%|████▏                                                               | 12/195 [00:00<00:01, 117.81it/s]"
     ]
    },
    {
     "name": "stdout",
     "output_type": "stream",
     "text": [
      "Processed batch 0/195, batch size: 128\n"
     ]
    },
    {
     "name": "stderr",
     "output_type": "stream",
     "text": [
      "Evaluation:  58%|███████████████████████████████████████▏                           | 114/195 [00:00<00:00, 132.22it/s]"
     ]
    },
    {
     "name": "stdout",
     "output_type": "stream",
     "text": [
      "Processed batch 100/195, batch size: 128\n"
     ]
    },
    {
     "name": "stderr",
     "output_type": "stream",
     "text": [
      "                                                                                                                       \r"
     ]
    },
    {
     "name": "stdout",
     "output_type": "stream",
     "text": [
      "Epoch 57/100, Train Loss: 0.0546, Val Loss: 0.0458, Val Accuracy: 0.9809, Val Precision: 0.9811, Val Recall: 0.9979, Val F1: 0.9894, Val AUC: 0.9976, Val EER: 0.0263\n",
      "Saved best model with Val EER: 0.0263 to W2V_best_mlp_crossmodel_asv21_DF_cnn01\n",
      "Starting epoch 58/100\n"
     ]
    },
    {
     "name": "stderr",
     "output_type": "stream",
     "text": [
      "Evaluation:  13%|█████████                                                           | 26/195 [00:00<00:01, 121.09it/s]"
     ]
    },
    {
     "name": "stdout",
     "output_type": "stream",
     "text": [
      "Processed batch 0/195, batch size: 128\n"
     ]
    },
    {
     "name": "stderr",
     "output_type": "stream",
     "text": [
      "Evaluation:  59%|███████████████████████████████████████▊                           | 116/195 [00:00<00:00, 136.65it/s]"
     ]
    },
    {
     "name": "stdout",
     "output_type": "stream",
     "text": [
      "Processed batch 100/195, batch size: 128\n"
     ]
    },
    {
     "name": "stderr",
     "output_type": "stream",
     "text": [
      "                                                                                                                       \r"
     ]
    },
    {
     "name": "stdout",
     "output_type": "stream",
     "text": [
      "Epoch 58/100, Train Loss: 0.0591, Val Loss: 0.0468, Val Accuracy: 0.9791, Val Precision: 0.9781, Val Recall: 0.9990, Val F1: 0.9885, Val AUC: 0.9972, Val EER: 0.0283\n",
      "Starting epoch 59/100\n"
     ]
    },
    {
     "name": "stderr",
     "output_type": "stream",
     "text": [
      "Evaluation:   9%|█████▉                                                              | 17/195 [00:00<00:01, 167.47it/s]"
     ]
    },
    {
     "name": "stdout",
     "output_type": "stream",
     "text": [
      "Processed batch 0/195, batch size: 128\n"
     ]
    },
    {
     "name": "stderr",
     "output_type": "stream",
     "text": [
      "Evaluation:  60%|████████████████████████████████████████▏                          | 117/195 [00:00<00:00, 136.41it/s]"
     ]
    },
    {
     "name": "stdout",
     "output_type": "stream",
     "text": [
      "Processed batch 100/195, batch size: 128\n"
     ]
    },
    {
     "name": "stderr",
     "output_type": "stream",
     "text": [
      "                                                                                                                       \r"
     ]
    },
    {
     "name": "stdout",
     "output_type": "stream",
     "text": [
      "Epoch 59/100, Train Loss: 0.0556, Val Loss: 0.0463, Val Accuracy: 0.9811, Val Precision: 0.9810, Val Recall: 0.9983, Val F1: 0.9896, Val AUC: 0.9975, Val EER: 0.0279\n",
      "Starting epoch 60/100\n"
     ]
    },
    {
     "name": "stderr",
     "output_type": "stream",
     "text": [
      "Evaluation:  14%|█████████▍                                                          | 27/195 [00:00<00:01, 131.78it/s]"
     ]
    },
    {
     "name": "stdout",
     "output_type": "stream",
     "text": [
      "Processed batch 0/195, batch size: 128\n"
     ]
    },
    {
     "name": "stderr",
     "output_type": "stream",
     "text": [
      "Evaluation:  62%|█████████████████████████████████████████▏                         | 120/195 [00:00<00:00, 152.00it/s]"
     ]
    },
    {
     "name": "stdout",
     "output_type": "stream",
     "text": [
      "Processed batch 100/195, batch size: 128\n"
     ]
    },
    {
     "name": "stderr",
     "output_type": "stream",
     "text": [
      "                                                                                                                       \r"
     ]
    },
    {
     "name": "stdout",
     "output_type": "stream",
     "text": [
      "Epoch 60/100, Train Loss: 0.0545, Val Loss: 0.0457, Val Accuracy: 0.9829, Val Precision: 0.9833, Val Recall: 0.9978, Val F1: 0.9905, Val AUC: 0.9976, Val EER: 0.0263\n",
      "Starting epoch 61/100\n"
     ]
    },
    {
     "name": "stderr",
     "output_type": "stream",
     "text": [
      "Evaluation:  13%|████████▋                                                           | 25/195 [00:00<00:01, 120.58it/s]"
     ]
    },
    {
     "name": "stdout",
     "output_type": "stream",
     "text": [
      "Processed batch 0/195, batch size: 128\n"
     ]
    },
    {
     "name": "stderr",
     "output_type": "stream",
     "text": [
      "Evaluation:  66%|████████████████████████████████████████████▎                      | 129/195 [00:00<00:00, 142.78it/s]"
     ]
    },
    {
     "name": "stdout",
     "output_type": "stream",
     "text": [
      "Processed batch 100/195, batch size: 128\n"
     ]
    },
    {
     "name": "stderr",
     "output_type": "stream",
     "text": [
      "                                                                                                                       \r"
     ]
    },
    {
     "name": "stdout",
     "output_type": "stream",
     "text": [
      "Epoch 61/100, Train Loss: 0.0557, Val Loss: 0.0400, Val Accuracy: 0.9855, Val Precision: 0.9861, Val Recall: 0.9978, Val F1: 0.9920, Val AUC: 0.9982, Val EER: 0.0220\n",
      "Saved best model with Val EER: 0.0220 to W2V_best_mlp_crossmodel_asv21_DF_cnn01\n",
      "Starting epoch 62/100\n"
     ]
    },
    {
     "name": "stderr",
     "output_type": "stream",
     "text": [
      "Evaluation:   7%|████▌                                                               | 13/195 [00:00<00:01, 127.96it/s]"
     ]
    },
    {
     "name": "stdout",
     "output_type": "stream",
     "text": [
      "Processed batch 0/195, batch size: 128\n"
     ]
    },
    {
     "name": "stderr",
     "output_type": "stream",
     "text": [
      "Evaluation:  61%|████████████████████████████████████████▉                          | 119/195 [00:00<00:00, 142.25it/s]"
     ]
    },
    {
     "name": "stdout",
     "output_type": "stream",
     "text": [
      "Processed batch 100/195, batch size: 128\n"
     ]
    },
    {
     "name": "stderr",
     "output_type": "stream",
     "text": [
      "                                                                                                                       \r"
     ]
    },
    {
     "name": "stdout",
     "output_type": "stream",
     "text": [
      "Epoch 62/100, Train Loss: 0.0536, Val Loss: 0.0439, Val Accuracy: 0.9826, Val Precision: 0.9822, Val Recall: 0.9987, Val F1: 0.9904, Val AUC: 0.9982, Val EER: 0.0220\n",
      "Starting epoch 63/100\n"
     ]
    },
    {
     "name": "stderr",
     "output_type": "stream",
     "text": [
      "Evaluation:  12%|████████▎                                                           | 24/195 [00:00<00:01, 119.39it/s]"
     ]
    },
    {
     "name": "stdout",
     "output_type": "stream",
     "text": [
      "Processed batch 0/195, batch size: 128\n"
     ]
    },
    {
     "name": "stderr",
     "output_type": "stream",
     "text": [
      "Evaluation:  62%|█████████████████████████████████████████▌                         | 121/195 [00:00<00:00, 139.25it/s]"
     ]
    },
    {
     "name": "stdout",
     "output_type": "stream",
     "text": [
      "Processed batch 100/195, batch size: 128\n"
     ]
    },
    {
     "name": "stderr",
     "output_type": "stream",
     "text": [
      "                                                                                                                       \r"
     ]
    },
    {
     "name": "stdout",
     "output_type": "stream",
     "text": [
      "Epoch 63/100, Train Loss: 0.0535, Val Loss: 0.0415, Val Accuracy: 0.9844, Val Precision: 0.9868, Val Recall: 0.9959, Val F1: 0.9914, Val AUC: 0.9981, Val EER: 0.0228\n",
      "Starting epoch 64/100\n"
     ]
    },
    {
     "name": "stderr",
     "output_type": "stream",
     "text": [
      "Evaluation:  14%|█████████▍                                                          | 27/195 [00:00<00:01, 134.51it/s]"
     ]
    },
    {
     "name": "stdout",
     "output_type": "stream",
     "text": [
      "Processed batch 0/195, batch size: 128\n"
     ]
    },
    {
     "name": "stderr",
     "output_type": "stream",
     "text": [
      "Evaluation:  67%|█████████████████████████████████████████████                      | 131/195 [00:00<00:00, 148.52it/s]"
     ]
    },
    {
     "name": "stdout",
     "output_type": "stream",
     "text": [
      "Processed batch 100/195, batch size: 128\n"
     ]
    },
    {
     "name": "stderr",
     "output_type": "stream",
     "text": [
      "                                                                                                                       \r"
     ]
    },
    {
     "name": "stdout",
     "output_type": "stream",
     "text": [
      "Epoch 64/100, Train Loss: 0.0546, Val Loss: 0.0401, Val Accuracy: 0.9847, Val Precision: 0.9861, Val Recall: 0.9970, Val F1: 0.9915, Val AUC: 0.9984, Val EER: 0.0204\n",
      "Saved best model with Val EER: 0.0204 to W2V_best_mlp_crossmodel_asv21_DF_cnn01\n",
      "Starting epoch 65/100\n"
     ]
    },
    {
     "name": "stderr",
     "output_type": "stream",
     "text": [
      "Evaluation:   8%|█████▏                                                              | 15/195 [00:00<00:01, 139.52it/s]"
     ]
    },
    {
     "name": "stdout",
     "output_type": "stream",
     "text": [
      "Processed batch 0/195, batch size: 128\n"
     ]
    },
    {
     "name": "stderr",
     "output_type": "stream",
     "text": [
      "Evaluation:  65%|███████████████████████████████████████████▋                       | 127/195 [00:00<00:00, 131.07it/s]"
     ]
    },
    {
     "name": "stdout",
     "output_type": "stream",
     "text": [
      "Processed batch 100/195, batch size: 128\n"
     ]
    },
    {
     "name": "stderr",
     "output_type": "stream",
     "text": [
      "                                                                                                                       \r"
     ]
    },
    {
     "name": "stdout",
     "output_type": "stream",
     "text": [
      "Epoch 65/100, Train Loss: 0.0526, Val Loss: 0.0431, Val Accuracy: 0.9847, Val Precision: 0.9877, Val Recall: 0.9953, Val F1: 0.9915, Val AUC: 0.9981, Val EER: 0.0224\n",
      "Starting epoch 66/100\n"
     ]
    },
    {
     "name": "stderr",
     "output_type": "stream",
     "text": [
      "Evaluation:  13%|████████▋                                                           | 25/195 [00:00<00:01, 120.99it/s]"
     ]
    },
    {
     "name": "stdout",
     "output_type": "stream",
     "text": [
      "Processed batch 0/195, batch size: 128\n"
     ]
    },
    {
     "name": "stderr",
     "output_type": "stream",
     "text": [
      "Evaluation:  58%|██████████████████████████████████████▊                            | 113/195 [00:00<00:00, 129.33it/s]"
     ]
    },
    {
     "name": "stdout",
     "output_type": "stream",
     "text": [
      "Processed batch 100/195, batch size: 128\n"
     ]
    },
    {
     "name": "stderr",
     "output_type": "stream",
     "text": [
      "                                                                                                                       \r"
     ]
    },
    {
     "name": "stdout",
     "output_type": "stream",
     "text": [
      "Epoch 66/100, Train Loss: 0.0513, Val Loss: 0.0414, Val Accuracy: 0.9828, Val Precision: 0.9845, Val Recall: 0.9965, Val F1: 0.9905, Val AUC: 0.9979, Val EER: 0.0232\n",
      "Starting epoch 67/100\n"
     ]
    },
    {
     "name": "stderr",
     "output_type": "stream",
     "text": [
      "Evaluation:   6%|████▏                                                               | 12/195 [00:00<00:01, 114.82it/s]"
     ]
    },
    {
     "name": "stdout",
     "output_type": "stream",
     "text": [
      "Processed batch 0/195, batch size: 128\n"
     ]
    },
    {
     "name": "stderr",
     "output_type": "stream",
     "text": [
      "Evaluation:  68%|█████████████████████████████████████████████▎                     | 132/195 [00:00<00:00, 145.74it/s]"
     ]
    },
    {
     "name": "stdout",
     "output_type": "stream",
     "text": [
      "Processed batch 100/195, batch size: 128\n"
     ]
    },
    {
     "name": "stderr",
     "output_type": "stream",
     "text": [
      "                                                                                                                       \r"
     ]
    },
    {
     "name": "stdout",
     "output_type": "stream",
     "text": [
      "Epoch 67/100, Train Loss: 0.0519, Val Loss: 0.0382, Val Accuracy: 0.9860, Val Precision: 0.9864, Val Recall: 0.9981, Val F1: 0.9922, Val AUC: 0.9984, Val EER: 0.0204\n",
      "Starting epoch 68/100\n"
     ]
    },
    {
     "name": "stderr",
     "output_type": "stream",
     "text": [
      "Evaluation:   8%|█████▏                                                              | 15/195 [00:00<00:01, 143.53it/s]"
     ]
    },
    {
     "name": "stdout",
     "output_type": "stream",
     "text": [
      "Processed batch 0/195, batch size: 128\n"
     ]
    },
    {
     "name": "stderr",
     "output_type": "stream",
     "text": [
      "Evaluation:  63%|██████████████████████████████████████████▎                        | 123/195 [00:00<00:00, 138.47it/s]"
     ]
    },
    {
     "name": "stdout",
     "output_type": "stream",
     "text": [
      "Processed batch 100/195, batch size: 128\n"
     ]
    },
    {
     "name": "stderr",
     "output_type": "stream",
     "text": [
      "                                                                                                                       \r"
     ]
    },
    {
     "name": "stdout",
     "output_type": "stream",
     "text": [
      "Epoch 68/100, Train Loss: 0.0495, Val Loss: 0.0399, Val Accuracy: 0.9831, Val Precision: 0.9824, Val Recall: 0.9991, Val F1: 0.9907, Val AUC: 0.9983, Val EER: 0.0208\n",
      "Starting epoch 69/100\n"
     ]
    },
    {
     "name": "stderr",
     "output_type": "stream",
     "text": [
      "Evaluation:  13%|█████████                                                           | 26/195 [00:00<00:01, 125.86it/s]"
     ]
    },
    {
     "name": "stdout",
     "output_type": "stream",
     "text": [
      "Processed batch 0/195, batch size: 128\n"
     ]
    },
    {
     "name": "stderr",
     "output_type": "stream",
     "text": [
      "Evaluation:  59%|███████████████████████████████████████▊                           | 116/195 [00:00<00:00, 126.44it/s]"
     ]
    },
    {
     "name": "stdout",
     "output_type": "stream",
     "text": [
      "Processed batch 100/195, batch size: 128\n"
     ]
    },
    {
     "name": "stderr",
     "output_type": "stream",
     "text": [
      "                                                                                                                       \r"
     ]
    },
    {
     "name": "stdout",
     "output_type": "stream",
     "text": [
      "Epoch 69/100, Train Loss: 0.0504, Val Loss: 0.0389, Val Accuracy: 0.9836, Val Precision: 0.9831, Val Recall: 0.9989, Val F1: 0.9909, Val AUC: 0.9983, Val EER: 0.0224\n",
      "Starting epoch 70/100\n"
     ]
    },
    {
     "name": "stderr",
     "output_type": "stream",
     "text": [
      "Evaluation:   8%|█████▌                                                              | 16/195 [00:00<00:01, 153.09it/s]"
     ]
    },
    {
     "name": "stdout",
     "output_type": "stream",
     "text": [
      "Processed batch 0/195, batch size: 128\n"
     ]
    },
    {
     "name": "stderr",
     "output_type": "stream",
     "text": [
      "Evaluation:  62%|█████████████████████████████████████████▏                         | 120/195 [00:00<00:00, 133.19it/s]"
     ]
    },
    {
     "name": "stdout",
     "output_type": "stream",
     "text": [
      "Processed batch 100/195, batch size: 128\n"
     ]
    },
    {
     "name": "stderr",
     "output_type": "stream",
     "text": [
      "                                                                                                                       \r"
     ]
    },
    {
     "name": "stdout",
     "output_type": "stream",
     "text": [
      "Epoch 70/100, Train Loss: 0.0501, Val Loss: 0.0392, Val Accuracy: 0.9833, Val Precision: 0.9842, Val Recall: 0.9974, Val F1: 0.9908, Val AUC: 0.9982, Val EER: 0.0212\n",
      "Starting epoch 71/100\n"
     ]
    },
    {
     "name": "stderr",
     "output_type": "stream",
     "text": [
      "Evaluation:   7%|████▌                                                               | 13/195 [00:00<00:01, 128.65it/s]"
     ]
    },
    {
     "name": "stdout",
     "output_type": "stream",
     "text": [
      "Processed batch 0/195, batch size: 128\n"
     ]
    },
    {
     "name": "stderr",
     "output_type": "stream",
     "text": [
      "Evaluation:  62%|█████████████████████████████████████████▏                         | 120/195 [00:00<00:00, 144.98it/s]"
     ]
    },
    {
     "name": "stdout",
     "output_type": "stream",
     "text": [
      "Processed batch 100/195, batch size: 128\n"
     ]
    },
    {
     "name": "stderr",
     "output_type": "stream",
     "text": [
      "                                                                                                                       \r"
     ]
    },
    {
     "name": "stdout",
     "output_type": "stream",
     "text": [
      "Epoch 71/100, Train Loss: 0.0497, Val Loss: 0.0398, Val Accuracy: 0.9829, Val Precision: 0.9817, Val Recall: 0.9996, Val F1: 0.9906, Val AUC: 0.9984, Val EER: 0.0224\n",
      "Starting epoch 72/100\n"
     ]
    },
    {
     "name": "stderr",
     "output_type": "stream",
     "text": [
      "Evaluation:   8%|█████▏                                                              | 15/195 [00:00<00:01, 143.52it/s]"
     ]
    },
    {
     "name": "stdout",
     "output_type": "stream",
     "text": [
      "Processed batch 0/195, batch size: 128\n"
     ]
    },
    {
     "name": "stderr",
     "output_type": "stream",
     "text": [
      "Evaluation:  65%|███████████████████████████████████████████▋                       | 127/195 [00:00<00:00, 140.81it/s]"
     ]
    },
    {
     "name": "stdout",
     "output_type": "stream",
     "text": [
      "Processed batch 100/195, batch size: 128\n"
     ]
    },
    {
     "name": "stderr",
     "output_type": "stream",
     "text": [
      "                                                                                                                       \r"
     ]
    },
    {
     "name": "stdout",
     "output_type": "stream",
     "text": [
      "Epoch 72/100, Train Loss: 0.0494, Val Loss: 0.0360, Val Accuracy: 0.9880, Val Precision: 0.9899, Val Recall: 0.9968, Val F1: 0.9933, Val AUC: 0.9985, Val EER: 0.0212\n",
      "Starting epoch 73/100\n"
     ]
    },
    {
     "name": "stderr",
     "output_type": "stream",
     "text": [
      "Evaluation:  12%|████████▎                                                           | 24/195 [00:00<00:01, 117.74it/s]"
     ]
    },
    {
     "name": "stdout",
     "output_type": "stream",
     "text": [
      "Processed batch 0/195, batch size: 128\n"
     ]
    },
    {
     "name": "stderr",
     "output_type": "stream",
     "text": [
      "Evaluation:  59%|███████████████████████████████████████▌                           | 115/195 [00:00<00:00, 134.32it/s]"
     ]
    },
    {
     "name": "stdout",
     "output_type": "stream",
     "text": [
      "Processed batch 100/195, batch size: 128\n"
     ]
    },
    {
     "name": "stderr",
     "output_type": "stream",
     "text": [
      "                                                                                                                       \r"
     ]
    },
    {
     "name": "stdout",
     "output_type": "stream",
     "text": [
      "Epoch 73/100, Train Loss: 0.0467, Val Loss: 0.0363, Val Accuracy: 0.9852, Val Precision: 0.9854, Val Recall: 0.9983, Val F1: 0.9918, Val AUC: 0.9984, Val EER: 0.0204\n",
      "Starting epoch 74/100\n"
     ]
    },
    {
     "name": "stderr",
     "output_type": "stream",
     "text": [
      "Evaluation:   7%|████▉                                                               | 14/195 [00:00<00:01, 139.29it/s]"
     ]
    },
    {
     "name": "stdout",
     "output_type": "stream",
     "text": [
      "Processed batch 0/195, batch size: 128\n"
     ]
    },
    {
     "name": "stderr",
     "output_type": "stream",
     "text": [
      "Evaluation:  61%|████████████████████████████████████████▉                          | 119/195 [00:00<00:00, 126.90it/s]"
     ]
    },
    {
     "name": "stdout",
     "output_type": "stream",
     "text": [
      "Processed batch 100/195, batch size: 128\n"
     ]
    },
    {
     "name": "stderr",
     "output_type": "stream",
     "text": [
      "                                                                                                                       \r"
     ]
    },
    {
     "name": "stdout",
     "output_type": "stream",
     "text": [
      "Epoch 74/100, Train Loss: 0.0478, Val Loss: 0.0347, Val Accuracy: 0.9876, Val Precision: 0.9897, Val Recall: 0.9966, Val F1: 0.9931, Val AUC: 0.9986, Val EER: 0.0177\n",
      "Saved best model with Val EER: 0.0177 to W2V_best_mlp_crossmodel_asv21_DF_cnn01\n",
      "Starting epoch 75/100\n"
     ]
    },
    {
     "name": "stderr",
     "output_type": "stream",
     "text": [
      "Evaluation:   7%|████▌                                                               | 13/195 [00:00<00:01, 120.92it/s]"
     ]
    },
    {
     "name": "stdout",
     "output_type": "stream",
     "text": [
      "Processed batch 0/195, batch size: 128\n"
     ]
    },
    {
     "name": "stderr",
     "output_type": "stream",
     "text": [
      "Evaluation:  59%|███████████████████████████████████████▌                           | 115/195 [00:00<00:00, 141.54it/s]"
     ]
    },
    {
     "name": "stdout",
     "output_type": "stream",
     "text": [
      "Processed batch 100/195, batch size: 128\n"
     ]
    },
    {
     "name": "stderr",
     "output_type": "stream",
     "text": [
      "                                                                                                                       \r"
     ]
    },
    {
     "name": "stdout",
     "output_type": "stream",
     "text": [
      "Epoch 75/100, Train Loss: 0.0483, Val Loss: 0.0355, Val Accuracy: 0.9862, Val Precision: 0.9855, Val Recall: 0.9993, Val F1: 0.9923, Val AUC: 0.9988, Val EER: 0.0173\n",
      "Saved best model with Val EER: 0.0173 to W2V_best_mlp_crossmodel_asv21_DF_cnn01\n",
      "Starting epoch 76/100\n"
     ]
    },
    {
     "name": "stderr",
     "output_type": "stream",
     "text": [
      "Evaluation:   7%|████▉                                                               | 14/195 [00:00<00:01, 136.92it/s]"
     ]
    },
    {
     "name": "stdout",
     "output_type": "stream",
     "text": [
      "Processed batch 0/195, batch size: 128\n"
     ]
    },
    {
     "name": "stderr",
     "output_type": "stream",
     "text": [
      "Evaluation:  59%|███████████████████████████████████████▊                           | 116/195 [00:00<00:00, 132.93it/s]"
     ]
    },
    {
     "name": "stdout",
     "output_type": "stream",
     "text": [
      "Processed batch 100/195, batch size: 128\n"
     ]
    },
    {
     "name": "stderr",
     "output_type": "stream",
     "text": [
      "                                                                                                                       \r"
     ]
    },
    {
     "name": "stdout",
     "output_type": "stream",
     "text": [
      "Epoch 76/100, Train Loss: 0.0486, Val Loss: 0.0332, Val Accuracy: 0.9871, Val Precision: 0.9872, Val Recall: 0.9985, Val F1: 0.9928, Val AUC: 0.9988, Val EER: 0.0184\n",
      "Starting epoch 77/100\n"
     ]
    },
    {
     "name": "stderr",
     "output_type": "stream",
     "text": [
      "Evaluation:   7%|████▉                                                               | 14/195 [00:00<00:01, 135.25it/s]"
     ]
    },
    {
     "name": "stdout",
     "output_type": "stream",
     "text": [
      "Processed batch 0/195, batch size: 128\n"
     ]
    },
    {
     "name": "stderr",
     "output_type": "stream",
     "text": [
      "Evaluation:  61%|████████████████████████████████████████▉                          | 119/195 [00:00<00:00, 133.85it/s]"
     ]
    },
    {
     "name": "stdout",
     "output_type": "stream",
     "text": [
      "Processed batch 100/195, batch size: 128\n"
     ]
    },
    {
     "name": "stderr",
     "output_type": "stream",
     "text": [
      "                                                                                                                       \r"
     ]
    },
    {
     "name": "stdout",
     "output_type": "stream",
     "text": [
      "Epoch 77/100, Train Loss: 0.0448, Val Loss: 0.0358, Val Accuracy: 0.9858, Val Precision: 0.9862, Val Recall: 0.9981, Val F1: 0.9921, Val AUC: 0.9985, Val EER: 0.0200\n",
      "Starting epoch 78/100\n"
     ]
    },
    {
     "name": "stderr",
     "output_type": "stream",
     "text": [
      "Evaluation:   6%|████▏                                                               | 12/195 [00:00<00:01, 119.39it/s]"
     ]
    },
    {
     "name": "stdout",
     "output_type": "stream",
     "text": [
      "Processed batch 0/195, batch size: 128\n"
     ]
    },
    {
     "name": "stderr",
     "output_type": "stream",
     "text": [
      "Evaluation:  62%|█████████████████████████████████████████▏                         | 120/195 [00:00<00:00, 138.12it/s]"
     ]
    },
    {
     "name": "stdout",
     "output_type": "stream",
     "text": [
      "Processed batch 100/195, batch size: 128\n"
     ]
    },
    {
     "name": "stderr",
     "output_type": "stream",
     "text": [
      "                                                                                                                       \r"
     ]
    },
    {
     "name": "stdout",
     "output_type": "stream",
     "text": [
      "Epoch 78/100, Train Loss: 0.0459, Val Loss: 0.0342, Val Accuracy: 0.9847, Val Precision: 0.9836, Val Recall: 0.9996, Val F1: 0.9916, Val AUC: 0.9992, Val EER: 0.0145\n",
      "Saved best model with Val EER: 0.0145 to W2V_best_mlp_crossmodel_asv21_DF_cnn01\n",
      "Starting epoch 79/100\n"
     ]
    },
    {
     "name": "stderr",
     "output_type": "stream",
     "text": [
      "Evaluation:   6%|████▏                                                               | 12/195 [00:00<00:01, 114.82it/s]"
     ]
    },
    {
     "name": "stdout",
     "output_type": "stream",
     "text": [
      "Processed batch 0/195, batch size: 128\n"
     ]
    },
    {
     "name": "stderr",
     "output_type": "stream",
     "text": [
      "Evaluation:  58%|███████████████████████████████████████▏                           | 114/195 [00:00<00:00, 127.31it/s]"
     ]
    },
    {
     "name": "stdout",
     "output_type": "stream",
     "text": [
      "Processed batch 100/195, batch size: 128\n"
     ]
    },
    {
     "name": "stderr",
     "output_type": "stream",
     "text": [
      "                                                                                                                       \r"
     ]
    },
    {
     "name": "stdout",
     "output_type": "stream",
     "text": [
      "Epoch 79/100, Train Loss: 0.0458, Val Loss: 0.0329, Val Accuracy: 0.9876, Val Precision: 0.9874, Val Recall: 0.9990, Val F1: 0.9931, Val AUC: 0.9990, Val EER: 0.0161\n",
      "Starting epoch 80/100\n"
     ]
    },
    {
     "name": "stderr",
     "output_type": "stream",
     "text": [
      "Evaluation:  14%|█████████▍                                                          | 27/195 [00:00<00:01, 133.28it/s]"
     ]
    },
    {
     "name": "stdout",
     "output_type": "stream",
     "text": [
      "Processed batch 0/195, batch size: 128\n"
     ]
    },
    {
     "name": "stderr",
     "output_type": "stream",
     "text": [
      "Evaluation:  59%|███████████████████████████████████████▌                           | 115/195 [00:00<00:00, 130.60it/s]"
     ]
    },
    {
     "name": "stdout",
     "output_type": "stream",
     "text": [
      "Processed batch 100/195, batch size: 128\n"
     ]
    },
    {
     "name": "stderr",
     "output_type": "stream",
     "text": [
      "                                                                                                                       \r"
     ]
    },
    {
     "name": "stdout",
     "output_type": "stream",
     "text": [
      "Epoch 80/100, Train Loss: 0.0464, Val Loss: 0.0349, Val Accuracy: 0.9841, Val Precision: 0.9829, Val Recall: 0.9997, Val F1: 0.9912, Val AUC: 0.9990, Val EER: 0.0169\n",
      "Starting epoch 81/100\n"
     ]
    },
    {
     "name": "stderr",
     "output_type": "stream",
     "text": [
      "Evaluation:   8%|█████▌                                                              | 16/195 [00:00<00:01, 153.09it/s]"
     ]
    },
    {
     "name": "stdout",
     "output_type": "stream",
     "text": [
      "Processed batch 0/195, batch size: 128\n"
     ]
    },
    {
     "name": "stderr",
     "output_type": "stream",
     "text": [
      "Evaluation:  63%|██████████████████████████████████████████▎                        | 123/195 [00:00<00:00, 139.14it/s]"
     ]
    },
    {
     "name": "stdout",
     "output_type": "stream",
     "text": [
      "Processed batch 100/195, batch size: 128\n"
     ]
    },
    {
     "name": "stderr",
     "output_type": "stream",
     "text": [
      "                                                                                                                       \r"
     ]
    },
    {
     "name": "stdout",
     "output_type": "stream",
     "text": [
      "Epoch 81/100, Train Loss: 0.0445, Val Loss: 0.0327, Val Accuracy: 0.9883, Val Precision: 0.9892, Val Recall: 0.9978, Val F1: 0.9935, Val AUC: 0.9988, Val EER: 0.0184\n",
      "Starting epoch 82/100\n"
     ]
    },
    {
     "name": "stderr",
     "output_type": "stream",
     "text": [
      "Evaluation:   7%|████▌                                                               | 13/195 [00:00<00:01, 123.21it/s]"
     ]
    },
    {
     "name": "stdout",
     "output_type": "stream",
     "text": [
      "Processed batch 0/195, batch size: 128\n"
     ]
    },
    {
     "name": "stderr",
     "output_type": "stream",
     "text": [
      "Evaluation:  63%|██████████████████████████████████████████▎                        | 123/195 [00:00<00:00, 126.29it/s]"
     ]
    },
    {
     "name": "stdout",
     "output_type": "stream",
     "text": [
      "Processed batch 100/195, batch size: 128\n"
     ]
    },
    {
     "name": "stderr",
     "output_type": "stream",
     "text": [
      "                                                                                                                       \r"
     ]
    },
    {
     "name": "stdout",
     "output_type": "stream",
     "text": [
      "Epoch 82/100, Train Loss: 0.0435, Val Loss: 0.0335, Val Accuracy: 0.9871, Val Precision: 0.9868, Val Recall: 0.9990, Val F1: 0.9928, Val AUC: 0.9991, Val EER: 0.0153\n",
      "Starting epoch 83/100\n"
     ]
    },
    {
     "name": "stderr",
     "output_type": "stream",
     "text": [
      "Evaluation:   8%|█████▌                                                              | 16/195 [00:00<00:01, 159.19it/s]"
     ]
    },
    {
     "name": "stdout",
     "output_type": "stream",
     "text": [
      "Processed batch 0/195, batch size: 128\n"
     ]
    },
    {
     "name": "stderr",
     "output_type": "stream",
     "text": [
      "Evaluation:  62%|█████████████████████████████████████████▌                         | 121/195 [00:00<00:00, 129.92it/s]"
     ]
    },
    {
     "name": "stdout",
     "output_type": "stream",
     "text": [
      "Processed batch 100/195, batch size: 128\n"
     ]
    },
    {
     "name": "stderr",
     "output_type": "stream",
     "text": [
      "                                                                                                                       \r"
     ]
    },
    {
     "name": "stdout",
     "output_type": "stream",
     "text": [
      "Epoch 83/100, Train Loss: 0.0443, Val Loss: 0.0318, Val Accuracy: 0.9865, Val Precision: 0.9879, Val Recall: 0.9972, Val F1: 0.9925, Val AUC: 0.9989, Val EER: 0.0153\n",
      "Starting epoch 84/100\n"
     ]
    },
    {
     "name": "stderr",
     "output_type": "stream",
     "text": [
      "Evaluation:   6%|████▏                                                               | 12/195 [00:00<00:01, 113.73it/s]"
     ]
    },
    {
     "name": "stdout",
     "output_type": "stream",
     "text": [
      "Processed batch 0/195, batch size: 128\n"
     ]
    },
    {
     "name": "stderr",
     "output_type": "stream",
     "text": [
      "Evaluation:  66%|███████████████████████████████████████████▉                       | 128/195 [00:00<00:00, 134.40it/s]"
     ]
    },
    {
     "name": "stdout",
     "output_type": "stream",
     "text": [
      "Processed batch 100/195, batch size: 128\n"
     ]
    },
    {
     "name": "stderr",
     "output_type": "stream",
     "text": [
      "                                                                                                                       \r"
     ]
    },
    {
     "name": "stdout",
     "output_type": "stream",
     "text": [
      "Epoch 84/100, Train Loss: 0.0423, Val Loss: 0.0313, Val Accuracy: 0.9891, Val Precision: 0.9899, Val Recall: 0.9980, Val F1: 0.9939, Val AUC: 0.9989, Val EER: 0.0184\n",
      "Starting epoch 85/100\n"
     ]
    },
    {
     "name": "stderr",
     "output_type": "stream",
     "text": [
      "Evaluation:  14%|█████████▊                                                          | 28/195 [00:00<00:01, 136.56it/s]"
     ]
    },
    {
     "name": "stdout",
     "output_type": "stream",
     "text": [
      "Processed batch 0/195, batch size: 128\n"
     ]
    },
    {
     "name": "stderr",
     "output_type": "stream",
     "text": [
      "Evaluation:  63%|█████████████████████████████████████████▉                         | 122/195 [00:00<00:00, 151.50it/s]"
     ]
    },
    {
     "name": "stdout",
     "output_type": "stream",
     "text": [
      "Processed batch 100/195, batch size: 128\n"
     ]
    },
    {
     "name": "stderr",
     "output_type": "stream",
     "text": [
      "                                                                                                                       \r"
     ]
    },
    {
     "name": "stdout",
     "output_type": "stream",
     "text": [
      "Epoch 85/100, Train Loss: 0.0438, Val Loss: 0.0304, Val Accuracy: 0.9892, Val Precision: 0.9899, Val Recall: 0.9982, Val F1: 0.9940, Val AUC: 0.9990, Val EER: 0.0177\n",
      "Starting epoch 86/100\n"
     ]
    },
    {
     "name": "stderr",
     "output_type": "stream",
     "text": [
      "Evaluation:  14%|█████████▍                                                          | 27/195 [00:00<00:01, 134.82it/s]"
     ]
    },
    {
     "name": "stdout",
     "output_type": "stream",
     "text": [
      "Processed batch 0/195, batch size: 128\n"
     ]
    },
    {
     "name": "stderr",
     "output_type": "stream",
     "text": [
      "Evaluation:  61%|████████████████████████████████████████▉                          | 119/195 [00:00<00:00, 135.95it/s]"
     ]
    },
    {
     "name": "stdout",
     "output_type": "stream",
     "text": [
      "Processed batch 100/195, batch size: 128\n"
     ]
    },
    {
     "name": "stderr",
     "output_type": "stream",
     "text": [
      "                                                                                                                       \r"
     ]
    },
    {
     "name": "stdout",
     "output_type": "stream",
     "text": [
      "Epoch 86/100, Train Loss: 0.0425, Val Loss: 0.0298, Val Accuracy: 0.9895, Val Precision: 0.9894, Val Recall: 0.9990, Val F1: 0.9942, Val AUC: 0.9991, Val EER: 0.0153\n",
      "Starting epoch 87/100\n"
     ]
    },
    {
     "name": "stderr",
     "output_type": "stream",
     "text": [
      "Evaluation:   7%|████▉                                                               | 14/195 [00:00<00:01, 132.69it/s]"
     ]
    },
    {
     "name": "stdout",
     "output_type": "stream",
     "text": [
      "Processed batch 0/195, batch size: 128\n"
     ]
    },
    {
     "name": "stderr",
     "output_type": "stream",
     "text": [
      "Evaluation:  62%|█████████████████████████████████████████▏                         | 120/195 [00:00<00:00, 133.36it/s]"
     ]
    },
    {
     "name": "stdout",
     "output_type": "stream",
     "text": [
      "Processed batch 100/195, batch size: 128\n"
     ]
    },
    {
     "name": "stderr",
     "output_type": "stream",
     "text": [
      "                                                                                                                       \r"
     ]
    },
    {
     "name": "stdout",
     "output_type": "stream",
     "text": [
      "Epoch 87/100, Train Loss: 0.0417, Val Loss: 0.0290, Val Accuracy: 0.9908, Val Precision: 0.9915, Val Recall: 0.9983, Val F1: 0.9949, Val AUC: 0.9993, Val EER: 0.0141\n",
      "Saved best model with Val EER: 0.0141 to W2V_best_mlp_crossmodel_asv21_DF_cnn01\n",
      "Starting epoch 88/100\n"
     ]
    },
    {
     "name": "stderr",
     "output_type": "stream",
     "text": [
      "Evaluation:   6%|████▏                                                               | 12/195 [00:00<00:01, 118.80it/s]"
     ]
    },
    {
     "name": "stdout",
     "output_type": "stream",
     "text": [
      "Processed batch 0/195, batch size: 128\n"
     ]
    },
    {
     "name": "stderr",
     "output_type": "stream",
     "text": [
      "Evaluation:  64%|██████████████████████████████████████████▉                        | 125/195 [00:00<00:00, 148.88it/s]"
     ]
    },
    {
     "name": "stdout",
     "output_type": "stream",
     "text": [
      "Processed batch 100/195, batch size: 128\n"
     ]
    },
    {
     "name": "stderr",
     "output_type": "stream",
     "text": [
      "                                                                                                                       \r"
     ]
    },
    {
     "name": "stdout",
     "output_type": "stream",
     "text": [
      "Epoch 88/100, Train Loss: 0.0425, Val Loss: 0.0285, Val Accuracy: 0.9900, Val Precision: 0.9901, Val Recall: 0.9988, Val F1: 0.9945, Val AUC: 0.9991, Val EER: 0.0169\n",
      "Starting epoch 89/100\n"
     ]
    },
    {
     "name": "stderr",
     "output_type": "stream",
     "text": [
      "Evaluation:   7%|████▌                                                               | 13/195 [00:00<00:01, 127.63it/s]"
     ]
    },
    {
     "name": "stdout",
     "output_type": "stream",
     "text": [
      "Processed batch 0/195, batch size: 128\n"
     ]
    },
    {
     "name": "stderr",
     "output_type": "stream",
     "text": [
      "Evaluation:  64%|██████████████████████████████████████████▉                        | 125/195 [00:00<00:00, 149.44it/s]"
     ]
    },
    {
     "name": "stdout",
     "output_type": "stream",
     "text": [
      "Processed batch 100/195, batch size: 128\n"
     ]
    },
    {
     "name": "stderr",
     "output_type": "stream",
     "text": [
      "                                                                                                                       \r"
     ]
    },
    {
     "name": "stdout",
     "output_type": "stream",
     "text": [
      "Epoch 89/100, Train Loss: 0.0423, Val Loss: 0.0297, Val Accuracy: 0.9881, Val Precision: 0.9875, Val Recall: 0.9994, Val F1: 0.9934, Val AUC: 0.9993, Val EER: 0.0133\n",
      "Saved best model with Val EER: 0.0133 to W2V_best_mlp_crossmodel_asv21_DF_cnn01\n",
      "Starting epoch 90/100\n"
     ]
    },
    {
     "name": "stderr",
     "output_type": "stream",
     "text": [
      "Evaluation:   7%|████▉                                                               | 14/195 [00:00<00:01, 135.25it/s]"
     ]
    },
    {
     "name": "stdout",
     "output_type": "stream",
     "text": [
      "Processed batch 0/195, batch size: 128\n"
     ]
    },
    {
     "name": "stderr",
     "output_type": "stream",
     "text": [
      "Evaluation:  66%|███████████████████████████████████████████▉                       | 128/195 [00:00<00:00, 140.04it/s]"
     ]
    },
    {
     "name": "stdout",
     "output_type": "stream",
     "text": [
      "Processed batch 100/195, batch size: 128\n"
     ]
    },
    {
     "name": "stderr",
     "output_type": "stream",
     "text": [
      "                                                                                                                       \r"
     ]
    },
    {
     "name": "stdout",
     "output_type": "stream",
     "text": [
      "Epoch 90/100, Train Loss: 0.0413, Val Loss: 0.0281, Val Accuracy: 0.9905, Val Precision: 0.9918, Val Recall: 0.9977, Val F1: 0.9947, Val AUC: 0.9993, Val EER: 0.0141\n",
      "Starting epoch 91/100\n"
     ]
    },
    {
     "name": "stderr",
     "output_type": "stream",
     "text": [
      "Evaluation:  13%|████████▋                                                           | 25/195 [00:00<00:01, 123.21it/s]"
     ]
    },
    {
     "name": "stdout",
     "output_type": "stream",
     "text": [
      "Processed batch 0/195, batch size: 128\n"
     ]
    },
    {
     "name": "stderr",
     "output_type": "stream",
     "text": [
      "Evaluation:  58%|███████████████████████████████████████▏                           | 114/195 [00:00<00:00, 134.14it/s]"
     ]
    },
    {
     "name": "stdout",
     "output_type": "stream",
     "text": [
      "Processed batch 100/195, batch size: 128\n"
     ]
    },
    {
     "name": "stderr",
     "output_type": "stream",
     "text": [
      "                                                                                                                       \r"
     ]
    },
    {
     "name": "stdout",
     "output_type": "stream",
     "text": [
      "Epoch 91/100, Train Loss: 0.0388, Val Loss: 0.0278, Val Accuracy: 0.9896, Val Precision: 0.9910, Val Recall: 0.9974, Val F1: 0.9942, Val AUC: 0.9990, Val EER: 0.0153\n",
      "Starting epoch 92/100\n"
     ]
    },
    {
     "name": "stderr",
     "output_type": "stream",
     "text": [
      "Evaluation:  12%|████████▎                                                           | 24/195 [00:00<00:01, 116.27it/s]"
     ]
    },
    {
     "name": "stdout",
     "output_type": "stream",
     "text": [
      "Processed batch 0/195, batch size: 128\n"
     ]
    },
    {
     "name": "stderr",
     "output_type": "stream",
     "text": [
      "Evaluation:  60%|████████████████████████████████████████▏                          | 117/195 [00:00<00:00, 147.38it/s]"
     ]
    },
    {
     "name": "stdout",
     "output_type": "stream",
     "text": [
      "Processed batch 100/195, batch size: 128\n"
     ]
    },
    {
     "name": "stderr",
     "output_type": "stream",
     "text": [
      "                                                                                                                       \r"
     ]
    },
    {
     "name": "stdout",
     "output_type": "stream",
     "text": [
      "Epoch 92/100, Train Loss: 0.0387, Val Loss: 0.0261, Val Accuracy: 0.9915, Val Precision: 0.9921, Val Recall: 0.9985, Val F1: 0.9953, Val AUC: 0.9993, Val EER: 0.0130\n",
      "Saved best model with Val EER: 0.0130 to W2V_best_mlp_crossmodel_asv21_DF_cnn01\n",
      "Starting epoch 93/100\n"
     ]
    },
    {
     "name": "stderr",
     "output_type": "stream",
     "text": [
      "Evaluation:   6%|████▏                                                               | 12/195 [00:00<00:01, 119.39it/s]"
     ]
    },
    {
     "name": "stdout",
     "output_type": "stream",
     "text": [
      "Processed batch 0/195, batch size: 128\n"
     ]
    },
    {
     "name": "stderr",
     "output_type": "stream",
     "text": [
      "Evaluation:  65%|███████████████████████████████████████████▋                       | 127/195 [00:00<00:00, 134.77it/s]"
     ]
    },
    {
     "name": "stdout",
     "output_type": "stream",
     "text": [
      "Processed batch 100/195, batch size: 128\n"
     ]
    },
    {
     "name": "stderr",
     "output_type": "stream",
     "text": [
      "                                                                                                                       \r"
     ]
    },
    {
     "name": "stdout",
     "output_type": "stream",
     "text": [
      "Epoch 93/100, Train Loss: 0.0405, Val Loss: 0.0296, Val Accuracy: 0.9878, Val Precision: 0.9868, Val Recall: 0.9998, Val F1: 0.9932, Val AUC: 0.9993, Val EER: 0.0137\n",
      "Starting epoch 94/100\n"
     ]
    },
    {
     "name": "stderr",
     "output_type": "stream",
     "text": [
      "Evaluation:   7%|████▌                                                               | 13/195 [00:00<00:01, 126.82it/s]"
     ]
    },
    {
     "name": "stdout",
     "output_type": "stream",
     "text": [
      "Processed batch 0/195, batch size: 128\n"
     ]
    },
    {
     "name": "stderr",
     "output_type": "stream",
     "text": [
      "Evaluation:  63%|██████████████████████████████████████████▎                        | 123/195 [00:00<00:00, 124.84it/s]"
     ]
    },
    {
     "name": "stdout",
     "output_type": "stream",
     "text": [
      "Processed batch 100/195, batch size: 128\n"
     ]
    },
    {
     "name": "stderr",
     "output_type": "stream",
     "text": [
      "                                                                                                                       \r"
     ]
    },
    {
     "name": "stdout",
     "output_type": "stream",
     "text": [
      "Epoch 94/100, Train Loss: 0.0396, Val Loss: 0.0318, Val Accuracy: 0.9864, Val Precision: 0.9857, Val Recall: 0.9993, Val F1: 0.9924, Val AUC: 0.9990, Val EER: 0.0169\n",
      "Starting epoch 95/100\n"
     ]
    },
    {
     "name": "stderr",
     "output_type": "stream",
     "text": [
      "Evaluation:  13%|█████████                                                           | 26/195 [00:00<00:01, 122.79it/s]"
     ]
    },
    {
     "name": "stdout",
     "output_type": "stream",
     "text": [
      "Processed batch 0/195, batch size: 128\n"
     ]
    },
    {
     "name": "stderr",
     "output_type": "stream",
     "text": [
      "Evaluation:  63%|█████████████████████████████████████████▉                         | 122/195 [00:00<00:00, 127.74it/s]"
     ]
    },
    {
     "name": "stdout",
     "output_type": "stream",
     "text": [
      "Processed batch 100/195, batch size: 128\n"
     ]
    },
    {
     "name": "stderr",
     "output_type": "stream",
     "text": [
      "                                                                                                                       \r"
     ]
    },
    {
     "name": "stdout",
     "output_type": "stream",
     "text": [
      "Epoch 95/100, Train Loss: 0.0394, Val Loss: 0.0268, Val Accuracy: 0.9887, Val Precision: 0.9882, Val Recall: 0.9994, Val F1: 0.9937, Val AUC: 0.9994, Val EER: 0.0118\n",
      "Saved best model with Val EER: 0.0118 to W2V_best_mlp_crossmodel_asv21_DF_cnn01\n",
      "Starting epoch 96/100\n"
     ]
    },
    {
     "name": "stderr",
     "output_type": "stream",
     "text": [
      "Evaluation:   7%|████▉                                                               | 14/195 [00:00<00:01, 133.96it/s]"
     ]
    },
    {
     "name": "stdout",
     "output_type": "stream",
     "text": [
      "Processed batch 0/195, batch size: 128\n"
     ]
    },
    {
     "name": "stderr",
     "output_type": "stream",
     "text": [
      "Evaluation:  61%|████████████████████████████████████████▌                          | 118/195 [00:00<00:00, 135.09it/s]"
     ]
    },
    {
     "name": "stdout",
     "output_type": "stream",
     "text": [
      "Processed batch 100/195, batch size: 128\n"
     ]
    },
    {
     "name": "stderr",
     "output_type": "stream",
     "text": [
      "                                                                                                                       \r"
     ]
    },
    {
     "name": "stdout",
     "output_type": "stream",
     "text": [
      "Epoch 96/100, Train Loss: 0.0380, Val Loss: 0.0256, Val Accuracy: 0.9901, Val Precision: 0.9898, Val Recall: 0.9992, Val F1: 0.9945, Val AUC: 0.9995, Val EER: 0.0110\n",
      "Saved best model with Val EER: 0.0110 to W2V_best_mlp_crossmodel_asv21_DF_cnn01\n",
      "Starting epoch 97/100\n"
     ]
    },
    {
     "name": "stderr",
     "output_type": "stream",
     "text": [
      "Evaluation:   6%|████▏                                                               | 12/195 [00:00<00:01, 114.82it/s]"
     ]
    },
    {
     "name": "stdout",
     "output_type": "stream",
     "text": [
      "Processed batch 0/195, batch size: 128\n"
     ]
    },
    {
     "name": "stderr",
     "output_type": "stream",
     "text": [
      "Evaluation:  66%|███████████████████████████████████████████▉                       | 128/195 [00:00<00:00, 136.98it/s]"
     ]
    },
    {
     "name": "stdout",
     "output_type": "stream",
     "text": [
      "Processed batch 100/195, batch size: 128\n"
     ]
    },
    {
     "name": "stderr",
     "output_type": "stream",
     "text": [
      "                                                                                                                       \r"
     ]
    },
    {
     "name": "stdout",
     "output_type": "stream",
     "text": [
      "Epoch 97/100, Train Loss: 0.0360, Val Loss: 0.0281, Val Accuracy: 0.9884, Val Precision: 0.9875, Val Recall: 0.9998, Val F1: 0.9936, Val AUC: 0.9993, Val EER: 0.0141\n",
      "Starting epoch 98/100\n"
     ]
    },
    {
     "name": "stderr",
     "output_type": "stream",
     "text": [
      "Evaluation:   8%|█████▌                                                              | 16/195 [00:00<00:01, 152.35it/s]"
     ]
    },
    {
     "name": "stdout",
     "output_type": "stream",
     "text": [
      "Processed batch 0/195, batch size: 128\n"
     ]
    },
    {
     "name": "stderr",
     "output_type": "stream",
     "text": [
      "Evaluation:  62%|█████████████████████████████████████████▌                         | 121/195 [00:00<00:00, 131.52it/s]"
     ]
    },
    {
     "name": "stdout",
     "output_type": "stream",
     "text": [
      "Processed batch 100/195, batch size: 128\n"
     ]
    },
    {
     "name": "stderr",
     "output_type": "stream",
     "text": [
      "                                                                                                                       \r"
     ]
    },
    {
     "name": "stdout",
     "output_type": "stream",
     "text": [
      "Epoch 98/100, Train Loss: 0.0411, Val Loss: 0.0262, Val Accuracy: 0.9902, Val Precision: 0.9900, Val Recall: 0.9992, Val F1: 0.9946, Val AUC: 0.9994, Val EER: 0.0126\n",
      "Starting epoch 99/100\n"
     ]
    },
    {
     "name": "stderr",
     "output_type": "stream",
     "text": [
      "Evaluation:   7%|████▌                                                               | 13/195 [00:00<00:01, 123.21it/s]"
     ]
    },
    {
     "name": "stdout",
     "output_type": "stream",
     "text": [
      "Processed batch 0/195, batch size: 128\n"
     ]
    },
    {
     "name": "stderr",
     "output_type": "stream",
     "text": [
      "Evaluation:  61%|████████████████████████████████████████▌                          | 118/195 [00:00<00:00, 143.78it/s]"
     ]
    },
    {
     "name": "stdout",
     "output_type": "stream",
     "text": [
      "Processed batch 100/195, batch size: 128\n"
     ]
    },
    {
     "name": "stderr",
     "output_type": "stream",
     "text": [
      "                                                                                                                       \r"
     ]
    },
    {
     "name": "stdout",
     "output_type": "stream",
     "text": [
      "Epoch 99/100, Train Loss: 0.0390, Val Loss: 0.0271, Val Accuracy: 0.9886, Val Precision: 0.9877, Val Recall: 0.9997, Val F1: 0.9937, Val AUC: 0.9994, Val EER: 0.0122\n",
      "Starting epoch 100/100\n"
     ]
    },
    {
     "name": "stderr",
     "output_type": "stream",
     "text": [
      "Evaluation:   6%|████▏                                                               | 12/195 [00:00<00:01, 119.09it/s]"
     ]
    },
    {
     "name": "stdout",
     "output_type": "stream",
     "text": [
      "Processed batch 0/195, batch size: 128\n"
     ]
    },
    {
     "name": "stderr",
     "output_type": "stream",
     "text": [
      "Evaluation:  63%|██████████████████████████████████████████▎                        | 123/195 [00:00<00:00, 139.47it/s]"
     ]
    },
    {
     "name": "stdout",
     "output_type": "stream",
     "text": [
      "Processed batch 100/195, batch size: 128\n"
     ]
    },
    {
     "name": "stderr",
     "output_type": "stream",
     "text": [
      "                                                                                                                       \r"
     ]
    },
    {
     "name": "stdout",
     "output_type": "stream",
     "text": [
      "Epoch 100/100, Train Loss: 0.0377, Val Loss: 0.0265, Val Accuracy: 0.9884, Val Precision: 0.9876, Val Recall: 0.9997, Val F1: 0.9936, Val AUC: 0.9995, Val EER: 0.0126\n"
     ]
    }
   ],
   "source": [
    "# Training loop\n",
    "epochs_no_improve = 0\n",
    "n_epochs_stop = 10\n",
    "best_val_loss = float('inf')\n",
    "best_val_eer = float('inf')\n",
    "for epoch in range(config['num_epochs']):\n",
    "    print(f'Starting epoch {epoch+1}/{config[\"num_epochs\"]}')\n",
    "    train_loss = train_model_fn(train_model, train_val_loader, criterion, optimizer)\n",
    "    \n",
    "    # Validate using the validation set\n",
    "    val_loss, val_accuracy, val_precision, val_recall, val_f1, val_auc, val_eer, cm = evaluate_model_fn(train_model, create_dataloader(X_val, y_val, config['batch_size']), criterion)\n",
    "    \n",
    "    print(f'Epoch {epoch+1}/{config[\"num_epochs\"]}, Train Loss: {train_loss:.4f}, Val Loss: {val_loss:.4f}, Val Accuracy: {val_accuracy:.4f}, Val Precision: {val_precision:.4f}, Val Recall: {val_recall:.4f}, Val F1: {val_f1:.4f}, Val AUC: {val_auc:.4f}, Val EER: {val_eer:.4f}')\n",
    "       \n",
    "    if val_eer < best_val_eer:\n",
    "        best_val_eer = val_eer\n",
    "        epochs_no_improve = 0\n",
    "        \n",
    "        # Remove the previously saved model if it exists\n",
    "        if os.path.exists(config['model_save_path']):\n",
    "            os.remove(config['model_save_path'])\n",
    "        \n",
    "        # Save the current model\n",
    "        torch.save(train_model.state_dict(), config['model_save_path'])\n",
    "        print(f'Saved best model with Val EER: {val_eer:.4f} to {config[\"model_save_path\"]}')\n",
    "    else:\n",
    "        epochs_no_improve += 1\n",
    "    \n",
    "    # Early stopping\n",
    "    if epochs_no_improve >= n_epochs_stop:\n",
    "        print(f'Early stopping at epoch {epoch+1}')\n",
    "        break"
   ]
  },
  {
   "cell_type": "code",
   "execution_count": 22,
   "id": "832d613f-dfa8-4732-9eb3-aaf8dc0d43fa",
   "metadata": {},
   "outputs": [],
   "source": [
    "def preprocess_features(X, target_dim):\n",
    "    # Reshape features to match the target dimension\n",
    "    if X.shape[1] != target_dim:\n",
    "        # Resize or truncate features\n",
    "        X = X[:, :target_dim]\n",
    "    return X\n",
    "\n",
    "# Preprocess features\n",
    "target_dim = X_train.shape[1]\n",
    "X_test_processed = preprocess_features(X_test_hidden, target_dim)\n"
   ]
  },
  {
   "cell_type": "code",
   "execution_count": 23,
   "id": "44958ccc-0ac2-4147-add8-169f0aa5bb6f",
   "metadata": {},
   "outputs": [],
   "source": [
    "test_loader = create_dataloader(X_test_processed, y_test, config['batch_size'])"
   ]
  },
  {
   "cell_type": "code",
   "execution_count": 24,
   "id": "882fef34",
   "metadata": {},
   "outputs": [
    {
     "name": "stderr",
     "output_type": "stream",
     "text": [
      "C:\\Users\\mawais\\AppData\\Local\\Temp\\ipykernel_26932\\1080504748.py:4: FutureWarning: You are using `torch.load` with `weights_only=False` (the current default value), which uses the default pickle module implicitly. It is possible to construct malicious pickle data which will execute arbitrary code during unpickling (See https://github.com/pytorch/pytorch/blob/main/SECURITY.md#untrusted-models for more details). In a future release, the default value for `weights_only` will be flipped to `True`. This limits the functions that could be executed during unpickling. Arbitrary objects will no longer be allowed to be loaded via this mode unless they are explicitly allowlisted by the user via `torch.serialization.add_safe_globals`. We recommend you start setting `weights_only=True` for any use case where you don't have full control of the loaded file. Please open an issue on GitHub for any issues related to this experimental feature.\n",
      "  test_model.load_state_dict(torch.load(config['model_save_path']))\n"
     ]
    },
    {
     "name": "stdout",
     "output_type": "stream",
     "text": [
      "Loaded best model from W2V_best_mlp_crossmodel_asv21_DF_cnn01 for testing\n"
     ]
    },
    {
     "name": "stderr",
     "output_type": "stream",
     "text": [
      "Evaluation:   1%|▋                                                                     | 3/313 [00:00<00:14, 20.85it/s]"
     ]
    },
    {
     "name": "stdout",
     "output_type": "stream",
     "text": [
      "Processed batch 0/313, batch size: 128\n"
     ]
    },
    {
     "name": "stderr",
     "output_type": "stream",
     "text": [
      "Evaluation:  33%|██████████████████████▌                                             | 104/313 [00:03<00:08, 25.89it/s]"
     ]
    },
    {
     "name": "stdout",
     "output_type": "stream",
     "text": [
      "Processed batch 100/313, batch size: 128\n"
     ]
    },
    {
     "name": "stderr",
     "output_type": "stream",
     "text": [
      "Evaluation:  65%|████████████████████████████████████████████▎                       | 204/313 [00:08<00:06, 17.36it/s]"
     ]
    },
    {
     "name": "stdout",
     "output_type": "stream",
     "text": [
      "Processed batch 200/313, batch size: 128\n"
     ]
    },
    {
     "name": "stderr",
     "output_type": "stream",
     "text": [
      "Evaluation:  97%|██████████████████████████████████████████████████████████████████  | 304/313 [00:14<00:00, 18.34it/s]"
     ]
    },
    {
     "name": "stdout",
     "output_type": "stream",
     "text": [
      "Processed batch 300/313, batch size: 128\n"
     ]
    },
    {
     "name": "stderr",
     "output_type": "stream",
     "text": [
      "                                                                                                                       \r"
     ]
    },
    {
     "name": "stdout",
     "output_type": "stream",
     "text": [
      "Test Accuracy: 0.8883\n",
      "Test Precision: 0.9634\n",
      "Test Recall: 0.9189\n",
      "Test F1: 0.9406\n",
      "Test AUC: 0.7354\n",
      "Test EER: 0.2794\n",
      "Test Confusion Matrix:\n",
      "[[  169  1345]\n",
      " [ 3123 35363]]\n"
     ]
    }
   ],
   "source": [
    "\n",
    "# Ensure same input dimension is used for testing\n",
    "if os.path.exists(config['model_save_path']):\n",
    "    test_model = MLPClassifier(train_input_dim, config['hidden_dim'], config['output_dim']).cuda()\n",
    "    test_model.load_state_dict(torch.load(config['model_save_path']))\n",
    "    print(f'Loaded best model from {config[\"model_save_path\"]} for testing')\n",
    "\n",
    "    # Testing the model\n",
    "    test_loss, test_accuracy, test_precision, test_recall, test_f1, test_auc, test_eer, test_cm = evaluate_model_fn(test_model, test_loader, criterion)\n",
    "    # print(f'Test Loss: {test_loss:.4f}')\n",
    "    print(f'Test Accuracy: {test_accuracy:.4f}')\n",
    "    print(f'Test Precision: {test_precision:.4f}')\n",
    "    print(f'Test Recall: {test_recall:.4f}')\n",
    "    print(f'Test F1: {test_f1:.4f}')\n",
    "    print(f'Test AUC: {test_auc:.4f}')\n",
    "    print(f'Test EER: {test_eer:.4f}')\n",
    "    print(f'Test Confusion Matrix:\\n{test_cm}')\n",
    "else:\n",
    "    print(f\"No saved model found at {config['model_save_path']}\")\n",
    "\n"
   ]
  },
  {
   "cell_type": "code",
   "execution_count": 25,
   "id": "d59cce01-24a6-4a8b-b915-0f206f7c3a50",
   "metadata": {},
   "outputs": [],
   "source": [
    "# Hyperparameters as a configuration dictionary\n",
    "config = {\n",
    "    'hidden_dim': 512,\n",
    "    'output_dim': 1,  # Assuming binary classification\n",
    "    'num_epochs': 100,\n",
    "    'batch_size': 128,\n",
    "    'learning_rate': 0.0001,\n",
    "    'model_save_path': 'XLSR_best_mlp_crossmodel_asv21_DF_cnn03'  # Base path for saving the model\n",
    "}"
   ]
  },
  {
   "cell_type": "code",
   "execution_count": null,
   "id": "b14885ee",
   "metadata": {},
   "outputs": [],
   "source": []
  },
  {
   "cell_type": "code",
   "execution_count": null,
   "id": "87435c78",
   "metadata": {},
   "outputs": [],
   "source": []
  },
  {
   "cell_type": "code",
   "execution_count": null,
   "id": "f17e04f7",
   "metadata": {},
   "outputs": [],
   "source": []
  },
  {
   "cell_type": "code",
   "execution_count": 1,
   "id": "26b24de4",
   "metadata": {},
   "outputs": [
    {
     "name": "stdout",
     "output_type": "stream",
     "text": [
      "Converted C:\\Notebooks\\rrl\\train_utterance_MDSTD_processed.csv to C:\\Notebooks\\rrl\\train_utterance_MDSTD_processed.data\n"
     ]
    }
   ],
   "source": [
    "import os\n",
    "import pandas as pd\n",
    "\n",
    "def convert_csv_to_data(csv_file_path):\n",
    "    # Load the CSV file into a DataFrame\n",
    "    df = pd.read_csv(csv_file_path)\n",
    "    \n",
    "    # Generate the output .data file path\n",
    "    data_file_path = csv_file_path.replace('.csv', '.data')\n",
    "    \n",
    "    # Save the DataFrame as a .data file (same format as CSV, just different extension)\n",
    "    df.to_csv(data_file_path, index=False, header=True, sep=',')  # Use comma as delimiter\n",
    "\n",
    "    print(f\"Converted {csv_file_path} to {data_file_path}\")\n",
    "\n",
    "# Example usage\n",
    "csv_file = \"C:\\\\Notebooks\\\\rrl\\\\train_utterance_MDSTD_processed.csv\"  # Path to the CSV file\n",
    "convert_csv_to_data(csv_file)\n"
   ]
  },
  {
   "cell_type": "code",
   "execution_count": 4,
   "id": "6f7bf87c",
   "metadata": {},
   "outputs": [
    {
     "name": "stdout",
     "output_type": "stream",
     "text": [
      "Converted C:\\Notebooks\\rrl\\train_utterance_MDSTD_processed.csv to C:\\Notebooks\\rrl\\train_utterance_MDSTD_processed.data\n"
     ]
    }
   ],
   "source": [
    "import os\n",
    "import pandas as pd\n",
    "\n",
    "def convert_csv_to_data(csv_file_path):\n",
    "    # Load the CSV file into a DataFrame (no header assumed here)\n",
    "    df = pd.read_csv(csv_file_path, header=None)  \n",
    "    \n",
    "    # Generate the output .data file path\n",
    "    data_file_path = csv_file_path.replace('.csv', '.data')\n",
    "    \n",
    "    # Define the desired precision for each column\n",
    "    precision_map = {\n",
    "        45: '%.9f',  # Column 0 with 3 decimal places\n",
    "        46: '%.9f',  # Column 1 with 3 decimal places\n",
    "        47: '%.9f',  # Column 2 with 3 decimal places\n",
    "        # You can adjust column index and precision here\n",
    "        48: '%.9e',  # Column 13 with scientific notation\n",
    "        49: '%.9f',  # Column 14 with 3 decimal places\n",
    "        50: '%.9f',  # Column 0 with 3 decimal places\n",
    "        51: '%.9f',  # Column 1 with 3 decimal places\n",
    "        52: '%.9f',  # Column 2 with 3 decimal places\n",
    "        # You can adjust column index and precision here\n",
    "        53: '%.9e',  # Column 13 with scientific notation\n",
    "        54: '%.9f',  # Column 14 with 3 decimal places\n",
    "        55: '%.9f',  # Column 0 with 3 decimal places\n",
    "        56: '%.9f',  # Column 1 with 3 decimal places\n",
    "        57: '%.9f',  # Column 2 with 3 decimal places\n",
    "        # You can adjust column index and precision here\n",
    "        58: '%.9e',  # Column 13 with scientific notation\n",
    "        59: '%.9f',  # Column 14 with 3 decimal places\n",
    "    }\n",
    "    \n",
    "    # Format each column based on the precision map\n",
    "    formatted_columns = []\n",
    "    for col in df.columns:\n",
    "        if col in precision_map:\n",
    "            formatted_column = df[col].map(lambda x: precision_map[col] % x if pd.notnull(x) else '')\n",
    "        else:\n",
    "            # Default to 3 decimal places if no precision specified\n",
    "            formatted_column = df[col].map(lambda x: '%.3f' % x if pd.notnull(x) else '')\n",
    "        \n",
    "        formatted_columns.append(formatted_column)\n",
    "    \n",
    "    # Concatenate all formatted columns back into a DataFrame\n",
    "    formatted_df = pd.concat(formatted_columns, axis=1)\n",
    "    \n",
    "    # Save the formatted DataFrame to a .data file\n",
    "    formatted_df.to_csv(data_file_path, index=False, header=False, sep=',', quoting=None)\n",
    "    \n",
    "    print(f\"Converted {csv_file_path} to {data_file_path}\")\n",
    "\n",
    "# Example usage\n",
    "csv_file = \"C:\\\\Notebooks\\\\rrl_source\\\\dataset_raw\\\\train_segment_MDSTD_processed.csv\"  # Path to the CSV file\n",
    "convert_csv_to_data(csv_file)\n",
    "\n"
   ]
  },
  {
   "cell_type": "code",
   "execution_count": null,
   "id": "ef4d904d",
   "metadata": {},
   "outputs": [],
   "source": [
    "python3 experiment.py -d train_fulldf_mfcc -bs 32 -s 1@1024 -e200 -lrde 200 -lr 0.0002 -ki 0 -i 0 -wd 0.0001 --nlaf --alpha 0.999 --beta 8 --gamma 1 --temp 0.01 --print_rule --save_best --skip --use_not  --estimated_grad --weighted  &"
   ]
  },
  {
   "cell_type": "code",
   "execution_count": 2,
   "id": "b77d4239",
   "metadata": {},
   "outputs": [
    {
     "name": "stdout",
     "output_type": "stream",
     "text": [
      "Converted C:\\Notebooks\\rrl_source\\dataset_raw\\train_segment_Wav2Vec2_part1_processed.csv to C:\\Notebooks\\rrl_source\\dataset_raw\\train_segment_Wav2Vec2_part1_processed.data\n"
     ]
    }
   ],
   "source": [
    "import os\n",
    "import pandas as pd\n",
    "\n",
    "def convert_csv_to_data(csv_file_path):\n",
    "    # Load the CSV file into a DataFrame (no header assumed here)\n",
    "    df = pd.read_csv(csv_file_path, header=None)  \n",
    "    \n",
    "    # Generate the output .data file path\n",
    "    data_file_path = csv_file_path.replace('.csv', '.data')\n",
    "    \n",
    "    # Format columns based on conditions\n",
    "    formatted_columns = []\n",
    "    for col in df.columns:\n",
    "        if col >= 1024 and col <= 1025:\n",
    "            # Retain full precision for columns 44 to 59 (no formatting change)\n",
    "            formatted_column = df[col]\n",
    "        else:\n",
    "            # Apply 3 decimal places for other columns\n",
    "            formatted_column = df[col].map(lambda x: '%.3f' % x if pd.notnull(x) else '')\n",
    "        \n",
    "        formatted_columns.append(formatted_column)\n",
    "    \n",
    "    # Concatenate all formatted columns back into a DataFrame\n",
    "    formatted_df = pd.concat(formatted_columns, axis=1)\n",
    "    \n",
    "    # Save the formatted DataFrame to a .data file\n",
    "    formatted_df.to_csv(data_file_path, index=False, header=False, sep=',', quoting=None)\n",
    "    \n",
    "    print(f\"Converted {csv_file_path} to {data_file_path}\")\n",
    "\n",
    "# Example usage\n",
    "csv_file = \"C:\\\\Notebooks\\\\rrl_source\\\\dataset_raw\\\\train_segment_Wav2Vec2_part1_processed.csv\"  # Path to the CSV file\n",
    "convert_csv_to_data(csv_file)\n"
   ]
  },
  {
   "cell_type": "code",
   "execution_count": 3,
   "id": "e852db8e",
   "metadata": {},
   "outputs": [
    {
     "name": "stdout",
     "output_type": "stream",
     "text": [
      "C:\\Notebooks\\rrl_source\\dataset\\train_segment_Wav2Vec2_part1_processed.INFO has been created successfully.\n"
     ]
    }
   ],
   "source": [
    "import os\n",
    "\n",
    "# Define the directory path where you want to save the file\n",
    "directory_path = \"C:\\\\Notebooks\\\\rrl_source\\\\dataset\\\\\"  # Change this to your desired path\n",
    "\n",
    "# Ensure the directory exists\n",
    "os.makedirs(directory_path, exist_ok=True)\n",
    "\n",
    "# Define the full file path\n",
    "file_path = os.path.join(directory_path, \"train_segment_Wav2Vec2_part1_processed.INFO\")\n",
    "\n",
    "# Open the file in write mode\n",
    "with open(file_path, \"w\") as file:\n",
    "    # Write 1024 continuous features\n",
    "    for i in range(1, 1025):\n",
    "        file.write(f\"{i} continuous\\n\")\n",
    "    \n",
    "    # Write the remaining lines\n",
    "    file.write(\"class discrete\\n\")\n",
    "    file.write(\"LABEL_POS -1\\n\")\n",
    "\n",
    "print(f\"{file_path} has been created successfully.\")\n"
   ]
  },
  {
   "cell_type": "code",
   "execution_count": 1,
   "id": "bba21ba2-fa12-4f3c-a418-0d2b05823117",
   "metadata": {},
   "outputs": [
    {
     "name": "stdout",
     "output_type": "stream",
     "text": [
      "Total rows in the original file: 433321\n",
      "Saved C:\\Notebooks\\rrl_source\\dataset_raw\\train_segment_Wav2Vec2_part1.csv with 80000 samples.\n",
      "Saved C:\\Notebooks\\rrl_source\\dataset_raw\\train_segment_Wav2Vec2_part2.csv with 80000 samples.\n",
      "Saved C:\\Notebooks\\rrl_source\\dataset_raw\\train_segment_Wav2Vec2_part3.csv with 80000 samples.\n",
      "Saved C:\\Notebooks\\rrl_source\\dataset_raw\\train_segment_Wav2Vec2_part4.csv with 80000 samples.\n",
      "Saved C:\\Notebooks\\rrl_source\\dataset_raw\\train_segment_Wav2Vec2_part5.csv with 80000 samples.\n",
      "Saved C:\\Notebooks\\rrl_source\\dataset_raw\\train_segment_Wav2Vec2_part6.csv with 33321 samples (last part).\n",
      "Finished processing and saving all parts.\n",
      "Finished processing and saving parts.\n"
     ]
    }
   ],
   "source": [
    "import pandas as pd\n",
    "\n",
    "# Path to the large CSV file\n",
    "file_path = r\"C:\\Notebooks\\rrl_source\\dataset_raw\\train_segment_Wav2Vec2_1024.csv\"\n",
    "\n",
    "# Parameters for subpart size\n",
    "output_size = 80000  # Total rows per output file\n",
    "samples_per_label = output_size // 2  # 40,000 samples for each label\n",
    "\n",
    "# Initialize counters\n",
    "part_num = 1\n",
    "remaining_ones = pd.DataFrame()\n",
    "remaining_zeros = pd.DataFrame()\n",
    "\n",
    "# Read the entire CSV file in one go to determine total rows\n",
    "total_rows = sum(1 for _ in open(file_path)) - 1  # Subtracting 1 for header row\n",
    "print(f\"Total rows in the original file: {total_rows}\")\n",
    "\n",
    "# Process the file in chunks to avoid loading the entire file into memory at once\n",
    "for chunk in pd.read_csv(file_path, chunksize=total_rows):\n",
    "    # Separate data by label\n",
    "    ones = chunk[chunk['Label'] == 1]\n",
    "    zeros = chunk[chunk['Label'] == 0]\n",
    "\n",
    "    # Concatenate with any remaining data from the previous chunk\n",
    "    ones = pd.concat([remaining_ones, ones], ignore_index=True)\n",
    "    zeros = pd.concat([remaining_zeros, zeros], ignore_index=True)\n",
    "    \n",
    "    # Process while there are enough samples for a balanced subpart\n",
    "    while len(ones) >= samples_per_label and len(zeros) >= samples_per_label:\n",
    "        # Sample 40,000 from each label for a balanced subset\n",
    "        balanced_chunk = pd.concat([ones[:samples_per_label], zeros[:samples_per_label]])\n",
    "        \n",
    "        # Remove used samples from ones and zeros\n",
    "        ones = ones.iloc[samples_per_label:].reset_index(drop=True)\n",
    "        zeros = zeros.iloc[samples_per_label:].reset_index(drop=True)\n",
    "        \n",
    "        # Shuffle the balanced data\n",
    "        balanced_chunk = balanced_chunk.sample(frac=1, random_state=42).reset_index(drop=True)\n",
    "        \n",
    "        # Save to a new CSV file\n",
    "        output_file = rf\"C:\\Notebooks\\rrl_source\\dataset_raw\\train_segment_Wav2Vec2_part{part_num}.csv\"\n",
    "        balanced_chunk.to_csv(output_file, index=False)\n",
    "        print(f\"Saved {output_file} with {len(balanced_chunk)} samples.\")\n",
    "        \n",
    "        part_num += 1\n",
    "\n",
    "    # Store any remaining samples for the next loop iteration\n",
    "    remaining_ones = ones\n",
    "    remaining_zeros = zeros\n",
    "\n",
    "# Handle the final part with remaining data if any\n",
    "if not remaining_ones.empty and not remaining_zeros.empty:\n",
    "    final_chunk = pd.concat([remaining_ones, remaining_zeros], ignore_index=True)\n",
    "    final_output_file = rf\"C:\\Notebooks\\rrl_source\\dataset_raw\\train_segment_Wav2Vec2_part{part_num}.csv\"\n",
    "    final_chunk.to_csv(final_output_file, index=False)\n",
    "    print(f\"Saved {final_output_file} with {len(final_chunk)} samples (last part).\")\n",
    "\n",
    "print(\"Finished processing and saving all parts.\")\n",
    "\n",
    "print(\"Finished processing and saving parts.\")\n"
   ]
  },
  {
   "cell_type": "code",
   "execution_count": null,
   "id": "8e5b65f5-315f-45b9-9670-fdf562a97ee7",
   "metadata": {},
   "outputs": [],
   "source": []
  },
  {
   "cell_type": "code",
   "execution_count": 24,
   "id": "33ab430d-4190-43ba-a24b-c31a9f696dc4",
   "metadata": {},
   "outputs": [],
   "source": []
  },
  {
   "cell_type": "code",
   "execution_count": null,
   "id": "623c2765-af3c-44f0-b2e2-f826e150cb55",
   "metadata": {},
   "outputs": [],
   "source": []
  }
 ],
 "metadata": {
  "kernelspec": {
   "display_name": "Python (pytorch_env)",
   "language": "python",
   "name": "pytorch_env"
  },
  "language_info": {
   "codemirror_mode": {
    "name": "ipython",
    "version": 3
   },
   "file_extension": ".py",
   "mimetype": "text/x-python",
   "name": "python",
   "nbconvert_exporter": "python",
   "pygments_lexer": "ipython3",
   "version": "3.9.19"
  }
 },
 "nbformat": 4,
 "nbformat_minor": 5
}
